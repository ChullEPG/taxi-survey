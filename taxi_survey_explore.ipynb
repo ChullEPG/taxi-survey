{
 "cells": [
  {
   "cell_type": "code",
   "execution_count": 2,
   "metadata": {},
   "outputs": [],
   "source": [
    "import pandas as pd\n",
    "import numpy as np\n",
    "from factor_analyzer import FactorAnalyzer\n",
    "from sklearn.preprocessing import OneHotEncoder\n",
    "import matplotlib.pyplot as plt\n",
    "from sklearn import linear_model\n",
    "from sklearn.model_selection import train_test_split\n",
    "import seaborn as sns\n",
    "from scipy import stats\n",
    "import dython as dy # for nominal categorical data\n",
    "from dython.nominal import associations \n",
    "from sklearn.linear_model import LogisticRegression\n",
    "from sklearn.metrics import accuracy_score, precision_score, recall_score"
   ]
  },
  {
   "attachments": {},
   "cell_type": "markdown",
   "metadata": {},
   "source": [
    "Read data\n",
    "\n",
    "TODO: SYnc to GitHub"
   ]
  },
  {
   "cell_type": "code",
   "execution_count": 3,
   "metadata": {},
   "outputs": [
    {
     "name": "stderr",
     "output_type": "stream",
     "text": [
      "/var/folders/pb/drvp7crx7qn3x5331z925m1c0000gt/T/ipykernel_85200/1455652280.py:2: FutureWarning: The frame.append method is deprecated and will be removed from pandas in a future version. Use pandas.concat instead.\n",
      "  df_raw = df_raw.append(pd.read_excel('Electric Taxis in South Africa(5001-5703).xlsx'))\n"
     ]
    },
    {
     "data": {
      "text/html": [
       "<div>\n",
       "<style scoped>\n",
       "    .dataframe tbody tr th:only-of-type {\n",
       "        vertical-align: middle;\n",
       "    }\n",
       "\n",
       "    .dataframe tbody tr th {\n",
       "        vertical-align: top;\n",
       "    }\n",
       "\n",
       "    .dataframe thead th {\n",
       "        text-align: right;\n",
       "    }\n",
       "</style>\n",
       "<table border=\"1\" class=\"dataframe\">\n",
       "  <thead>\n",
       "    <tr style=\"text-align: right;\">\n",
       "      <th></th>\n",
       "      <th>In which province or country do you live?</th>\n",
       "      <th>Do you live in a city/urban or rural environment?</th>\n",
       "      <th>In which area are you living in now?</th>\n",
       "      <th>What is your home language</th>\n",
       "      <th>How old are you?</th>\n",
       "      <th>What is your gender?</th>\n",
       "      <th>What is the highest level of schooling have you succesfully completed or passed?</th>\n",
       "      <th>Have you completed ANY tertiary education?</th>\n",
       "      <th>What education have you received after school?</th>\n",
       "      <th>What is the highest level of tertiary education you have succesfully completed?</th>\n",
       "      <th>...</th>\n",
       "      <th>How concernd are you about climate change?</th>\n",
       "      <th>The taxi industry should reduce its environmental impact</th>\n",
       "      <th>Petrol and diesel taxis are an environmental problem</th>\n",
       "      <th>Electric taxis will help lessen the harmful environmental impact caused by the taxi industry</th>\n",
       "      <th>Government should focus on switching to electric vehicles</th>\n",
       "      <th>You describe yourself as someone who often takes risks</th>\n",
       "      <th>You describe yourself as someone who has a lot of trust in other people and institutions in general</th>\n",
       "      <th>You describe yourself as someone who generally trusts new technologies</th>\n",
       "      <th>This survey is not available in your region yet. If you wish to be contacted when it is, please leave your email address below. Otherwise, you can close this survey.</th>\n",
       "      <th>Thank you for completing the survey. Please share this survey with other minibus taxi owners, drivers, and users: https://bit.ly/etaxisurvey</th>\n",
       "    </tr>\n",
       "  </thead>\n",
       "  <tbody>\n",
       "    <tr>\n",
       "      <th>0</th>\n",
       "      <td>Western Cape</td>\n",
       "      <td>City / Urban</td>\n",
       "      <td>Nyanga</td>\n",
       "      <td>Xhosa</td>\n",
       "      <td>45 - 54</td>\n",
       "      <td>Male</td>\n",
       "      <td>Grade 12 (Std. 10 / Matric / Senior Certificat...</td>\n",
       "      <td>No</td>\n",
       "      <td>NaN</td>\n",
       "      <td>NaN</td>\n",
       "      <td>...</td>\n",
       "      <td>10.0</td>\n",
       "      <td>Agree</td>\n",
       "      <td>Neutral</td>\n",
       "      <td>Neutral</td>\n",
       "      <td>Neutral</td>\n",
       "      <td>Agree</td>\n",
       "      <td>Agree</td>\n",
       "      <td>Agree</td>\n",
       "      <td>NaN</td>\n",
       "      <td>NaN</td>\n",
       "    </tr>\n",
       "    <tr>\n",
       "      <th>1</th>\n",
       "      <td>Western Cape</td>\n",
       "      <td>City / Urban</td>\n",
       "      <td>Mitchell's Plain</td>\n",
       "      <td>Zulu</td>\n",
       "      <td>35 - 44</td>\n",
       "      <td>Male</td>\n",
       "      <td>Grade 12 (Std. 10 / Matric / Senior Certificat...</td>\n",
       "      <td>No</td>\n",
       "      <td>NaN</td>\n",
       "      <td>NaN</td>\n",
       "      <td>...</td>\n",
       "      <td>9.0</td>\n",
       "      <td>Agree</td>\n",
       "      <td>Agree</td>\n",
       "      <td>Agree</td>\n",
       "      <td>Agree</td>\n",
       "      <td>Neutral</td>\n",
       "      <td>Neutral</td>\n",
       "      <td>Agree</td>\n",
       "      <td>NaN</td>\n",
       "      <td>NaN</td>\n",
       "    </tr>\n",
       "    <tr>\n",
       "      <th>2</th>\n",
       "      <td>Western Cape</td>\n",
       "      <td>City / Urban</td>\n",
       "      <td>Cape Town</td>\n",
       "      <td>English</td>\n",
       "      <td>35 - 44</td>\n",
       "      <td>Male</td>\n",
       "      <td>Grade 12 (Std. 10 / Matric / Senior Certificat...</td>\n",
       "      <td>No</td>\n",
       "      <td>NaN</td>\n",
       "      <td>NaN</td>\n",
       "      <td>...</td>\n",
       "      <td>1.0</td>\n",
       "      <td>Strongly agree</td>\n",
       "      <td>Strongly disagree</td>\n",
       "      <td>Neutral</td>\n",
       "      <td>Neutral</td>\n",
       "      <td>Neutral</td>\n",
       "      <td>Neutral</td>\n",
       "      <td>Neutral</td>\n",
       "      <td>NaN</td>\n",
       "      <td>NaN</td>\n",
       "    </tr>\n",
       "    <tr>\n",
       "      <th>3</th>\n",
       "      <td>Western Cape</td>\n",
       "      <td>City / Urban</td>\n",
       "      <td>Eerste River</td>\n",
       "      <td>English</td>\n",
       "      <td>35 - 44</td>\n",
       "      <td>Male</td>\n",
       "      <td>Grade 11 (Std. 9 / Form 4)</td>\n",
       "      <td>No</td>\n",
       "      <td>NaN</td>\n",
       "      <td>NaN</td>\n",
       "      <td>...</td>\n",
       "      <td>5.0</td>\n",
       "      <td>Neutral</td>\n",
       "      <td>Agree</td>\n",
       "      <td>Agree</td>\n",
       "      <td>Agree</td>\n",
       "      <td>Agree</td>\n",
       "      <td>Neutral</td>\n",
       "      <td>Agree</td>\n",
       "      <td>NaN</td>\n",
       "      <td>NaN</td>\n",
       "    </tr>\n",
       "    <tr>\n",
       "      <th>4</th>\n",
       "      <td>NaN</td>\n",
       "      <td>NaN</td>\n",
       "      <td>NaN</td>\n",
       "      <td>NaN</td>\n",
       "      <td>NaN</td>\n",
       "      <td>NaN</td>\n",
       "      <td>NaN</td>\n",
       "      <td>NaN</td>\n",
       "      <td>NaN</td>\n",
       "      <td>NaN</td>\n",
       "      <td>...</td>\n",
       "      <td>NaN</td>\n",
       "      <td>NaN</td>\n",
       "      <td>NaN</td>\n",
       "      <td>NaN</td>\n",
       "      <td>NaN</td>\n",
       "      <td>NaN</td>\n",
       "      <td>NaN</td>\n",
       "      <td>NaN</td>\n",
       "      <td>NaN</td>\n",
       "      <td>NaN</td>\n",
       "    </tr>\n",
       "    <tr>\n",
       "      <th>...</th>\n",
       "      <td>...</td>\n",
       "      <td>...</td>\n",
       "      <td>...</td>\n",
       "      <td>...</td>\n",
       "      <td>...</td>\n",
       "      <td>...</td>\n",
       "      <td>...</td>\n",
       "      <td>...</td>\n",
       "      <td>...</td>\n",
       "      <td>...</td>\n",
       "      <td>...</td>\n",
       "      <td>...</td>\n",
       "      <td>...</td>\n",
       "      <td>...</td>\n",
       "      <td>...</td>\n",
       "      <td>...</td>\n",
       "      <td>...</td>\n",
       "      <td>...</td>\n",
       "      <td>...</td>\n",
       "      <td>...</td>\n",
       "      <td>...</td>\n",
       "    </tr>\n",
       "    <tr>\n",
       "      <th>698</th>\n",
       "      <td>Western Cape</td>\n",
       "      <td>City / Urban</td>\n",
       "      <td>Mfuleni</td>\n",
       "      <td>Xhosa</td>\n",
       "      <td>45 - 54</td>\n",
       "      <td>Male</td>\n",
       "      <td>Grade 11 (Std. 9 / Form 4)</td>\n",
       "      <td>No</td>\n",
       "      <td>NaN</td>\n",
       "      <td>NaN</td>\n",
       "      <td>...</td>\n",
       "      <td>1.0</td>\n",
       "      <td>Neutral</td>\n",
       "      <td>Neutral</td>\n",
       "      <td>Neutral</td>\n",
       "      <td>Neutral</td>\n",
       "      <td>Disagree</td>\n",
       "      <td>Disagree</td>\n",
       "      <td>Neutral</td>\n",
       "      <td>NaN</td>\n",
       "      <td>NaN</td>\n",
       "    </tr>\n",
       "    <tr>\n",
       "      <th>699</th>\n",
       "      <td>Western Cape</td>\n",
       "      <td>City / Urban</td>\n",
       "      <td>Khayelitsha</td>\n",
       "      <td>English</td>\n",
       "      <td>25 - 34</td>\n",
       "      <td>Male</td>\n",
       "      <td>Grade 10 (Std. 8 / Form 3)</td>\n",
       "      <td>No</td>\n",
       "      <td>NaN</td>\n",
       "      <td>NaN</td>\n",
       "      <td>...</td>\n",
       "      <td>1.0</td>\n",
       "      <td>Neutral</td>\n",
       "      <td>Neutral</td>\n",
       "      <td>Neutral</td>\n",
       "      <td>Neutral</td>\n",
       "      <td>Agree</td>\n",
       "      <td>Disagree</td>\n",
       "      <td>Neutral</td>\n",
       "      <td>NaN</td>\n",
       "      <td>NaN</td>\n",
       "    </tr>\n",
       "    <tr>\n",
       "      <th>700</th>\n",
       "      <td>Western Cape</td>\n",
       "      <td>City / Urban</td>\n",
       "      <td>Mfuleni</td>\n",
       "      <td>Xhosa</td>\n",
       "      <td>35 - 44</td>\n",
       "      <td>Male</td>\n",
       "      <td>Grade 10 (Std. 8 / Form 3)</td>\n",
       "      <td>No</td>\n",
       "      <td>NaN</td>\n",
       "      <td>NaN</td>\n",
       "      <td>...</td>\n",
       "      <td>1.0</td>\n",
       "      <td>Neutral</td>\n",
       "      <td>Neutral</td>\n",
       "      <td>Neutral</td>\n",
       "      <td>Strongly disagree</td>\n",
       "      <td>Disagree</td>\n",
       "      <td>Disagree</td>\n",
       "      <td>Disagree</td>\n",
       "      <td>NaN</td>\n",
       "      <td>NaN</td>\n",
       "    </tr>\n",
       "    <tr>\n",
       "      <th>701</th>\n",
       "      <td>Western Cape</td>\n",
       "      <td>City / Urban</td>\n",
       "      <td>Belhar</td>\n",
       "      <td>Afrikaans</td>\n",
       "      <td>35 - 44</td>\n",
       "      <td>Male</td>\n",
       "      <td>Grade 11 (Std. 9 / Form 4)</td>\n",
       "      <td>No</td>\n",
       "      <td>NaN</td>\n",
       "      <td>NaN</td>\n",
       "      <td>...</td>\n",
       "      <td>1.0</td>\n",
       "      <td>Neutral</td>\n",
       "      <td>Neutral</td>\n",
       "      <td>Neutral</td>\n",
       "      <td>Strongly disagree</td>\n",
       "      <td>Agree</td>\n",
       "      <td>Agree</td>\n",
       "      <td>Neutral</td>\n",
       "      <td>NaN</td>\n",
       "      <td>NaN</td>\n",
       "    </tr>\n",
       "    <tr>\n",
       "      <th>702</th>\n",
       "      <td>Western Cape</td>\n",
       "      <td>City / Urban</td>\n",
       "      <td>Mfuleni</td>\n",
       "      <td>Xhosa</td>\n",
       "      <td>45 - 54</td>\n",
       "      <td>Male</td>\n",
       "      <td>Grade 12 (Std. 10 / Matric / Senior Certificat...</td>\n",
       "      <td>No</td>\n",
       "      <td>NaN</td>\n",
       "      <td>NaN</td>\n",
       "      <td>...</td>\n",
       "      <td>1.0</td>\n",
       "      <td>Neutral</td>\n",
       "      <td>Neutral</td>\n",
       "      <td>Neutral</td>\n",
       "      <td>Strongly disagree</td>\n",
       "      <td>Agree</td>\n",
       "      <td>Disagree</td>\n",
       "      <td>Disagree</td>\n",
       "      <td>NaN</td>\n",
       "      <td>NaN</td>\n",
       "    </tr>\n",
       "  </tbody>\n",
       "</table>\n",
       "<p>5703 rows × 94 columns</p>\n",
       "</div>"
      ],
      "text/plain": [
       "    In which province or country do you live?  \\\n",
       "0                                Western Cape   \n",
       "1                                Western Cape   \n",
       "2                                Western Cape   \n",
       "3                                Western Cape   \n",
       "4                                         NaN   \n",
       "..                                        ...   \n",
       "698                              Western Cape   \n",
       "699                              Western Cape   \n",
       "700                              Western Cape   \n",
       "701                              Western Cape   \n",
       "702                              Western Cape   \n",
       "\n",
       "    Do you live in a city/urban or rural environment?  \\\n",
       "0                                        City / Urban   \n",
       "1                                        City / Urban   \n",
       "2                                        City / Urban   \n",
       "3                                        City / Urban   \n",
       "4                                                 NaN   \n",
       "..                                                ...   \n",
       "698                                      City / Urban   \n",
       "699                                      City / Urban   \n",
       "700                                      City / Urban   \n",
       "701                                      City / Urban   \n",
       "702                                      City / Urban   \n",
       "\n",
       "    In which area are you living in now? What is your home language  \\\n",
       "0                                Nyanga                       Xhosa   \n",
       "1                      Mitchell's Plain                        Zulu   \n",
       "2                              Cape Town                    English   \n",
       "3                          Eerste River                     English   \n",
       "4                                    NaN                        NaN   \n",
       "..                                   ...                        ...   \n",
       "698                              Mfuleni                      Xhosa   \n",
       "699                         Khayelitsha                     English   \n",
       "700                             Mfuleni                       Xhosa   \n",
       "701                               Belhar                  Afrikaans   \n",
       "702                             Mfuleni                       Xhosa   \n",
       "\n",
       "    How old are you? What is your gender?  \\\n",
       "0            45 - 54                 Male   \n",
       "1            35 - 44                 Male   \n",
       "2            35 - 44                 Male   \n",
       "3            35 - 44                 Male   \n",
       "4                NaN                  NaN   \n",
       "..               ...                  ...   \n",
       "698          45 - 54                 Male   \n",
       "699          25 - 34                 Male   \n",
       "700          35 - 44                 Male   \n",
       "701          35 - 44                 Male   \n",
       "702          45 - 54                 Male   \n",
       "\n",
       "    What is the highest level of schooling have you succesfully completed or passed?  \\\n",
       "0    Grade 12 (Std. 10 / Matric / Senior Certificat...                                 \n",
       "1    Grade 12 (Std. 10 / Matric / Senior Certificat...                                 \n",
       "2    Grade 12 (Std. 10 / Matric / Senior Certificat...                                 \n",
       "3                           Grade 11 (Std. 9 / Form 4)                                 \n",
       "4                                                  NaN                                 \n",
       "..                                                 ...                                 \n",
       "698                         Grade 11 (Std. 9 / Form 4)                                 \n",
       "699                         Grade 10 (Std. 8 / Form 3)                                 \n",
       "700                         Grade 10 (Std. 8 / Form 3)                                 \n",
       "701                         Grade 11 (Std. 9 / Form 4)                                 \n",
       "702  Grade 12 (Std. 10 / Matric / Senior Certificat...                                 \n",
       "\n",
       "    Have you completed ANY tertiary education?  \\\n",
       "0                                           No   \n",
       "1                                           No   \n",
       "2                                           No   \n",
       "3                                           No   \n",
       "4                                          NaN   \n",
       "..                                         ...   \n",
       "698                                         No   \n",
       "699                                         No   \n",
       "700                                         No   \n",
       "701                                         No   \n",
       "702                                         No   \n",
       "\n",
       "    What education have you received after school?  \\\n",
       "0                                              NaN   \n",
       "1                                              NaN   \n",
       "2                                              NaN   \n",
       "3                                              NaN   \n",
       "4                                              NaN   \n",
       "..                                             ...   \n",
       "698                                            NaN   \n",
       "699                                            NaN   \n",
       "700                                            NaN   \n",
       "701                                            NaN   \n",
       "702                                            NaN   \n",
       "\n",
       "    What is the highest level of tertiary education you have succesfully completed?  \\\n",
       "0                                                  NaN                                \n",
       "1                                                  NaN                                \n",
       "2                                                  NaN                                \n",
       "3                                                  NaN                                \n",
       "4                                                  NaN                                \n",
       "..                                                 ...                                \n",
       "698                                                NaN                                \n",
       "699                                                NaN                                \n",
       "700                                                NaN                                \n",
       "701                                                NaN                                \n",
       "702                                                NaN                                \n",
       "\n",
       "     ... How concernd are you about climate change?  \\\n",
       "0    ...                                       10.0   \n",
       "1    ...                                        9.0   \n",
       "2    ...                                        1.0   \n",
       "3    ...                                        5.0   \n",
       "4    ...                                        NaN   \n",
       "..   ...                                        ...   \n",
       "698  ...                                        1.0   \n",
       "699  ...                                        1.0   \n",
       "700  ...                                        1.0   \n",
       "701  ...                                        1.0   \n",
       "702  ...                                        1.0   \n",
       "\n",
       "    The taxi industry should reduce its environmental impact  \\\n",
       "0                                                Agree         \n",
       "1                                                Agree         \n",
       "2                                       Strongly agree         \n",
       "3                                              Neutral         \n",
       "4                                                  NaN         \n",
       "..                                                 ...         \n",
       "698                                            Neutral         \n",
       "699                                            Neutral         \n",
       "700                                            Neutral         \n",
       "701                                            Neutral         \n",
       "702                                            Neutral         \n",
       "\n",
       "     Petrol and diesel taxis are an environmental problem  \\\n",
       "0                                              Neutral      \n",
       "1                                                Agree      \n",
       "2                                    Strongly disagree      \n",
       "3                                                Agree      \n",
       "4                                                  NaN      \n",
       "..                                                 ...      \n",
       "698                                            Neutral      \n",
       "699                                            Neutral      \n",
       "700                                            Neutral      \n",
       "701                                            Neutral      \n",
       "702                                            Neutral      \n",
       "\n",
       "    Electric taxis will help lessen the harmful environmental impact caused by the taxi industry  \\\n",
       "0                                              Neutral                                             \n",
       "1                                                Agree                                             \n",
       "2                                              Neutral                                             \n",
       "3                                                Agree                                             \n",
       "4                                                  NaN                                             \n",
       "..                                                 ...                                             \n",
       "698                                            Neutral                                             \n",
       "699                                            Neutral                                             \n",
       "700                                            Neutral                                             \n",
       "701                                            Neutral                                             \n",
       "702                                            Neutral                                             \n",
       "\n",
       "    Government should focus on switching to electric vehicles  \\\n",
       "0                                              Neutral          \n",
       "1                                                Agree          \n",
       "2                                              Neutral          \n",
       "3                                                Agree          \n",
       "4                                                  NaN          \n",
       "..                                                 ...          \n",
       "698                                            Neutral          \n",
       "699                                            Neutral          \n",
       "700                                  Strongly disagree          \n",
       "701                                  Strongly disagree          \n",
       "702                                  Strongly disagree          \n",
       "\n",
       "    You describe yourself as someone who often takes risks  \\\n",
       "0                                                Agree       \n",
       "1                                              Neutral       \n",
       "2                                              Neutral       \n",
       "3                                                Agree       \n",
       "4                                                  NaN       \n",
       "..                                                 ...       \n",
       "698                                           Disagree       \n",
       "699                                              Agree       \n",
       "700                                           Disagree       \n",
       "701                                              Agree       \n",
       "702                                              Agree       \n",
       "\n",
       "    You describe yourself as someone who has a lot of trust in other people and institutions in general  \\\n",
       "0                                                Agree                                                    \n",
       "1                                              Neutral                                                    \n",
       "2                                              Neutral                                                    \n",
       "3                                              Neutral                                                    \n",
       "4                                                  NaN                                                    \n",
       "..                                                 ...                                                    \n",
       "698                                           Disagree                                                    \n",
       "699                                           Disagree                                                    \n",
       "700                                           Disagree                                                    \n",
       "701                                              Agree                                                    \n",
       "702                                           Disagree                                                    \n",
       "\n",
       "     You describe yourself as someone who generally trusts new technologies  \\\n",
       "0                                                Agree                        \n",
       "1                                                Agree                        \n",
       "2                                              Neutral                        \n",
       "3                                                Agree                        \n",
       "4                                                  NaN                        \n",
       "..                                                 ...                        \n",
       "698                                            Neutral                        \n",
       "699                                            Neutral                        \n",
       "700                                           Disagree                        \n",
       "701                                            Neutral                        \n",
       "702                                           Disagree                        \n",
       "\n",
       "    This survey is not available in your region yet. If you wish to be contacted when it is, please leave your email address below. Otherwise, you can close this survey.  \\\n",
       "0                                                  NaN                                                                                                                      \n",
       "1                                                  NaN                                                                                                                      \n",
       "2                                                  NaN                                                                                                                      \n",
       "3                                                  NaN                                                                                                                      \n",
       "4                                                  NaN                                                                                                                      \n",
       "..                                                 ...                                                                                                                      \n",
       "698                                                NaN                                                                                                                      \n",
       "699                                                NaN                                                                                                                      \n",
       "700                                                NaN                                                                                                                      \n",
       "701                                                NaN                                                                                                                      \n",
       "702                                                NaN                                                                                                                      \n",
       "\n",
       "    Thank you for completing the survey. Please share this survey with other minibus taxi owners, drivers, and users: https://bit.ly/etaxisurvey  \n",
       "0                                                  NaN                                                                                            \n",
       "1                                                  NaN                                                                                            \n",
       "2                                                  NaN                                                                                            \n",
       "3                                                  NaN                                                                                            \n",
       "4                                                  NaN                                                                                            \n",
       "..                                                 ...                                                                                            \n",
       "698                                                NaN                                                                                            \n",
       "699                                                NaN                                                                                            \n",
       "700                                                NaN                                                                                            \n",
       "701                                                NaN                                                                                            \n",
       "702                                                NaN                                                                                            \n",
       "\n",
       "[5703 rows x 94 columns]"
      ]
     },
     "execution_count": 3,
     "metadata": {},
     "output_type": "execute_result"
    }
   ],
   "source": [
    "df_raw = pd.read_excel(\"Electric Taxis in South Africa(1-5000).xlsx\")\n",
    "df_raw = df_raw.append(pd.read_excel('Electric Taxis in South Africa(5001-5703).xlsx'))\n",
    "df = df_raw.copy()\n",
    "df.drop(df.columns[0:7], axis = 1, inplace = True)\n",
    "df\n"
   ]
  },
  {
   "attachments": {},
   "cell_type": "markdown",
   "metadata": {},
   "source": [
    "## <font color = 'orange'>Table of contents <font>"
   ]
  },
  {
   "cell_type": "code",
   "execution_count": 4,
   "metadata": {},
   "outputs": [],
   "source": [
    "demographics = df.columns[0:6]\n",
    "education = df.columns[6:10]\n",
    "driver_owner_user = df['Please select the option that applies to you:'] # Question 10 \n",
    "driver_questions=  df.columns[11:22]\n",
    "owner_questions = df.columns[22:35]\n",
    "owner_driver_questions = df.columns[35:47]"
   ]
  },
  {
   "cell_type": "markdown",
   "metadata": {},
   "source": [
    "# Demographics"
   ]
  },
  {
   "cell_type": "code",
   "execution_count": 86,
   "metadata": {},
   "outputs": [],
   "source": [
    "demographics = df.columns[0:6]\n",
    "province_or_country = df[demographics[0]]\n",
    "city_or_rural = df[demographics[1]]\n",
    "which_area_now = df[demographics[2]]\n",
    "language = df[demographics[3]]\n",
    "age = df[demographics[4]]\n",
    "gender = df[demographics[5]]\n"
   ]
  },
  {
   "cell_type": "code",
   "execution_count": 94,
   "metadata": {},
   "outputs": [
    {
     "data": {
      "text/html": [
       "<div>\n",
       "<style scoped>\n",
       "    .dataframe tbody tr th:only-of-type {\n",
       "        vertical-align: middle;\n",
       "    }\n",
       "\n",
       "    .dataframe tbody tr th {\n",
       "        vertical-align: top;\n",
       "    }\n",
       "\n",
       "    .dataframe thead th {\n",
       "        text-align: right;\n",
       "    }\n",
       "</style>\n",
       "<table border=\"1\" class=\"dataframe\">\n",
       "  <thead>\n",
       "    <tr style=\"text-align: right;\">\n",
       "      <th></th>\n",
       "      <th>How old are you?</th>\n",
       "    </tr>\n",
       "  </thead>\n",
       "  <tbody>\n",
       "    <tr>\n",
       "      <th>35 - 44</th>\n",
       "      <td>2392</td>\n",
       "    </tr>\n",
       "    <tr>\n",
       "      <th>45 - 54</th>\n",
       "      <td>1423</td>\n",
       "    </tr>\n",
       "    <tr>\n",
       "      <th>25 - 34</th>\n",
       "      <td>1132</td>\n",
       "    </tr>\n",
       "    <tr>\n",
       "      <th>55 - 65</th>\n",
       "      <td>216</td>\n",
       "    </tr>\n",
       "    <tr>\n",
       "      <th>18 - 24</th>\n",
       "      <td>118</td>\n",
       "    </tr>\n",
       "    <tr>\n",
       "      <th>65+</th>\n",
       "      <td>24</td>\n",
       "    </tr>\n",
       "  </tbody>\n",
       "</table>\n",
       "</div>"
      ],
      "text/plain": [
       "         How old are you?\n",
       "35 - 44              2392\n",
       "45 - 54              1423\n",
       "25 - 34              1132\n",
       "55 - 65               216\n",
       "18 - 24               118\n",
       "65+                    24"
      ]
     },
     "execution_count": 94,
     "metadata": {},
     "output_type": "execute_result"
    }
   ],
   "source": [
    "pd.DataFrame(age.value_counts())"
   ]
  },
  {
   "cell_type": "code",
   "execution_count": null,
   "metadata": {},
   "outputs": [],
   "source": []
  },
  {
   "attachments": {},
   "cell_type": "markdown",
   "metadata": {},
   "source": [
    "# Education"
   ]
  },
  {
   "cell_type": "code",
   "execution_count": null,
   "metadata": {},
   "outputs": [],
   "source": [
    "education = df.columns[6:10]\n",
    "highest_lvl_schooling = df[education[0]]\n",
    "any_tertiary = df[education[1]]\n",
    "any_education_after_school = df[education[2]]\n",
    "highest_lvl_tertiary = df[education[3]]"
   ]
  },
  {
   "attachments": {},
   "cell_type": "markdown",
   "metadata": {},
   "source": [
    "Age vs length vs appetite for take-up"
   ]
  },
  {
   "attachments": {},
   "cell_type": "markdown",
   "metadata": {},
   "source": [
    "## Driver/Owner/User"
   ]
  },
  {
   "cell_type": "code",
   "execution_count": 33,
   "metadata": {},
   "outputs": [],
   "source": [
    "driver_owner_user = df['Please select the option that applies to you:']"
   ]
  },
  {
   "attachments": {},
   "cell_type": "markdown",
   "metadata": {},
   "source": [
    "## Driver "
   ]
  },
  {
   "cell_type": "code",
   "execution_count": 48,
   "metadata": {},
   "outputs": [],
   "source": [
    "driver_questions=  df.columns[11:22]\n",
    "driver_how_long_driving = df[driver_questions[0]]\n",
    "driver_how_many_days_per_week_driving = df[driver_questions[1]]\n",
    "driver_what_days_drive = df[driver_questions[2]]\n",
    "driver_hours_drive_per_weekday = df[driver_questions[3]]\n",
    "driver_km_per_weekday = df[driver_questions[4]]\n",
    "driver_hours_drive_per_weekend = df[driver_questions[5]]\n",
    "driver_income_per_day = df[driver_questions[6]]\n",
    "driver_knows_what_e_taxi_is = df[driver_questions[7]]\n",
    "driver_e_taxi_benefit_vs_ICE = df[driver_questions[8]]\n",
    "driver_e_taxi_risks_vs_ICE = df[driver_questions[9]]\n",
    "driver__taxi_better_than_ICE = df[driver_questions[10]]"
   ]
  },
  {
   "cell_type": "code",
   "execution_count": 56,
   "metadata": {},
   "outputs": [
    {
     "data": {
      "text/plain": [
       "Don't know;                                                                                                                                                                                                                   1757\n",
       "None of the above;                                                                                                                                                                                                             652\n",
       "Less exhaust gasses (less emissions and pollution);                                                                                                                                                                            281\n",
       "Safer;                                                                                                                                                                                                                         204\n",
       "Less expensive to operate;                                                                                                                                                                                                     178\n",
       "                                                                                                                                                                                                                              ... \n",
       "Safer;More reliable;Longer range;More passengers;Faster charging an electric taxi than filling up a petrol/diesel taxi;Faster speeds with;Lower engine noise;Less exhaust gasses (less emissions and pollution);                 1\n",
       "More reliable;Longer range;More passengers;Faster charging an electric taxi than filling up a petrol/diesel taxi;Less exhaust gasses (less emissions and pollution);                                                             1\n",
       "Less expensive to operate;Safer;More reliable;Longer range;More passengers;                                                                                                                                                      1\n",
       "Less expensive to operate;More passengers;Longer range;More reliable;Faster charging an electric taxi than filling up a petrol/diesel taxi;                                                                                      1\n",
       "Less expensive to operate;Safer;More reliable;Longer range;Faster charging an electric taxi than filling up a petrol/diesel taxi;Faster speeds with;Lower engine noise;Less exhaust gasses (less emissions and pollution);       1\n",
       "Name: How do you expect an electric taxi will benefit you compared to petrol/diesel taxis? (select all that apply), Length: 375, dtype: int64"
      ]
     },
     "execution_count": 56,
     "metadata": {},
     "output_type": "execute_result"
    }
   ],
   "source": [
    "def extract_responses(column):\n",
    "    all_responses = []\n",
    "    for response in column:\n",
    "        if isinstance(response, str):\n",
    "            split_responses = response.split(';')\n",
    "            all_responses.extend([r.strip() for r in split_responses])\n",
    "    unique_responses = list(set(all_responses))\n",
    "    return unique_responses\n",
    "#extract_responses(driver_e_taxi_benefit_vs_ICE)\n",
    "driver_e_taxi_benefit_vs_ICE.explode().str.strip().value_counts()\n"
   ]
  },
  {
   "cell_type": "code",
   "execution_count": 85,
   "metadata": {},
   "outputs": [
    {
     "data": {
      "image/png": "[encoded data removed]",
      "text/plain": [
       "<Figure size 1000x1000 with 1 Axes>"
      ]
     },
     "metadata": {},
     "output_type": "display_data"
    }
   ],
   "source": [
    "def extract_responses_value_counts(column):\n",
    "    all_responses = []\n",
    "    for response in column:\n",
    "        if isinstance(response, str):\n",
    "            split_responses = response.split(';')\n",
    "            all_responses.extend([r.strip() for r in split_responses])\n",
    "    unique_responses = list(set(all_responses))\n",
    "    unique_responses = [r for r in unique_responses if r != '']\n",
    "    counts = {response: all_responses.count(response) for response in unique_responses}\n",
    "    return counts\n",
    "pd.DataFrame.from_dict(extract_responses_value_counts(driver_e_taxi_benefit_vs_ICE), orient = 'index', columns = ['Count']).plot(kind = 'pie', y = 'Count', figsize = (10,10), autopct='%1.1f%%', startangle=90, legend = False, title = 'Benefits of Electric Taxis vs ICE Taxis')\n",
    "plt.ylabel('')\n",
    "plt.savefig('figures/drivers_benefits_of_electric_taxis_vs_ICE_taxis_distribution.png')\n",
    "plt.show()\n"
   ]
  },
  {
   "attachments": {},
   "cell_type": "markdown",
   "metadata": {},
   "source": [
    "## Owner"
   ]
  },
  {
   "cell_type": "code",
   "execution_count": 43,
   "metadata": {},
   "outputs": [],
   "source": [
    "owner_questions = df.columns[22:35]\n",
    "owner_num_taxis = df[owner_questions[0]]\n",
    "owner_how_long_owned_taxi = df[owner_questions[1]]\n",
    "owner_petrol_or_diesel = df[owner_questions[2]]\n",
    "owner_how_old_oldest_vehicle = df[owner_questions[3]]\n",
    "owner_how_old_average_vehicle = df[owner_questions[4]]\n",
    "owner_km_per_day = df[owner_questions[5]]\n",
    "owner_income_per_week = df[owner_questions[6]]\n",
    "owner_e_taxi_benefit_vs_ICE = df[owner_questions[7]]\n",
    "owner_e_taxi_risks_vs_ICE = df[owner_questions[8]]\n",
    "owner_e_taxi_better_than_ICE = df[owner_questions[9]]\n",
    "owner_which_costs_more_to_run_ICE_or_etaxi = df[owner_questions[10]]\n",
    "owner_which_costs_more_to_buy_ICE_or_etaxi = df[owner_questions[11]]\n",
    "owner_which_costs_more_to_service_ICE_or_etaxi = df[owner_questions[12]]"
   ]
  },
  {
   "attachments": {},
   "cell_type": "markdown",
   "metadata": {},
   "source": [
    "# Owner + Driver"
   ]
  },
  {
   "cell_type": "code",
   "execution_count": 42,
   "metadata": {},
   "outputs": [],
   "source": [
    "owner_driver_questions = df.columns[35:55]\n",
    "owner_driver_num_taxis = df[owner_driver_questions[0]]\n",
    "owner_driver_how_long_owned_taxi = df[owner_driver_questions[1]]\n",
    "owner_driver_petrol_or_diesel = df[owner_driver_questions[2]]\n",
    "owner_driver_how_old_oldest_vehicle = df[owner_driver_questions[3]]\n",
    "owner_driver_how_old_average_vehicle = df[owner_driver_questions[4]]\n",
    "owner_driver_how_far_per_day = df[owner_driver_questions[5]]\n",
    "owner_driver_how_long_driven_taxi = df[owner_driver_questions[6]]\n",
    "owner_driver_number_days_per_week = df[owner_driver_questions[7]]\n",
    "owner_driver_what_days_drive = df[owner_driver_questions[8]]\n",
    "owner_driver_hours_drive_per_weekday = df[owner_driver_questions[9]]\n",
    "owner_driver_km_per_weekday_belief = df[owner_driver_questions[10]]\n",
    "owner_driver_hours_drive_per_weekend = df[owner_driver_questions[11]]\n",
    "owner_driver_income_per_week = df[owner_driver_questions[12]]\n",
    "owner_driver_e_taxi_benefit_vs_ICE = df[owner_driver_questions[13]]\n",
    "owner_driver_e_taxi_risks_vs_ICE = df[owner_driver_questions[14]]\n",
    "owner_driver_e_taxi_better_than_ICE = df[owner_driver_questions[15]]\n",
    "owner_driver_e_taxi_will_be_better_than_ICE = df[owner_driver_questions[16]]\n",
    "owner_driver_which_costs_more_to_run_ICE_or_etaxi = df[owner_driver_questions[17]]\n",
    "owner_driver_which_costs_more_to_buy_ICE_or_etaxi = df[owner_driver_questions[18]]\n",
    "owner_driver_which_costs_more_to_service_ICE_or_etaxi = df[owner_driver_questions[19]]"
   ]
  },
  {
   "attachments": {},
   "cell_type": "markdown",
   "metadata": {},
   "source": [
    "## User"
   ]
  },
  {
   "cell_type": "code",
   "execution_count": 29,
   "metadata": {},
   "outputs": [],
   "source": [
    "user_questions = df.columns[70:81]\n",
    "user_how_long = user_questions[0]\n",
    "user_how_many_days_per_week = user_questions[1]\n",
    "user_what_days = user_questions[2]\n",
    "user_how_far_normal_trip = user_questions[3]\n",
    "user_avg_trip_cost = user_questions[4]\n",
    "user_ICE_taxis_too_expensive = user_questions[5]\n",
    "user_knows_what_e_taxi_is = user_questions[6]\n",
    "owner_driver_e_taxi_benefit = user_questions[7]\n",
    "owner_driver_e_taxi_risks = user_questions[8]\n",
    "owner_environmental_conscience = user_questions[9]\n",
    "user_price_vs_time_prefs = user_questions[10]"
   ]
  },
  {
   "attachments": {},
   "cell_type": "markdown",
   "metadata": {},
   "source": [
    "# Perceptions of Petrol and Diesel Taxis"
   ]
  },
  {
   "cell_type": "code",
   "execution_count": 41,
   "metadata": {},
   "outputs": [],
   "source": [
    "perceptions_of_ICE_taxi = df.columns[55:60]\n",
    "ICE_taxi_safe = df[perceptions_of_ICE_taxi[0]]\n",
    "ICE_taxi_reliable = df[perceptions_of_ICE_taxi[1]]\n",
    "ICE_taxi_fuel_expensive = df[perceptions_of_ICE_taxi[2]]\n",
    "ICE_taxi_purchase_expensive = df[perceptions_of_ICE_taxi[3]]\n",
    "ICE_taxi_service_expensive = df[perceptions_of_ICE_taxi[4]]"
   ]
  },
  {
   "attachments": {},
   "cell_type": "markdown",
   "metadata": {},
   "source": [
    "# Perception of EV"
   ]
  },
  {
   "cell_type": "code",
   "execution_count": 35,
   "metadata": {},
   "outputs": [],
   "source": [
    "perceptions_of_EV_taxi = df.columns[60:70]\n",
    "EV_taxi_range = df[perceptions_of_EV_taxi[0]]\n",
    "EV_taxi_charge_time = df[perceptions_of_EV_taxi[1]]\n",
    "EV_taxi_purchase_decision = df[perceptions_of_EV_taxi[2]]\n",
    "EV_taxi_purchase_price_threshold = df[perceptions_of_EV_taxi[3]]\n",
    "EV_taxi_should_happen = df[perceptions_of_EV_taxi[4]]\n",
    "EV_taxi_worried_about_stations = df[perceptions_of_EV_taxi[5]]\n",
    "EV_taxi_affected_by_loadshedding = df[perceptions_of_EV_taxi[6]]\n",
    "EV_taxi_charging_expensive = df[perceptions_of_EV_taxi[7]]\n",
    "EV_taxi_purchase_expensive = df[perceptions_of_EV_taxi[8]]\n",
    "EV_taxi_service_expensive = df[perceptions_of_EV_taxi[9]]"
   ]
  },
  {
   "cell_type": "code",
   "execution_count": 46,
   "metadata": {},
   "outputs": [
    {
     "data": {
      "text/plain": [
       "2 - 5hours             1814\n",
       "More than 5hours       1455\n",
       "1 - 2hours              909\n",
       "30minutes - 1hour       566\n",
       "20 - 30minutes          300\n",
       "10 - 20minutes          128\n",
       "Less than 10minutes      40\n",
       "Name: How long do you think an electric taxi will take to fully recharge from an empty battery?, dtype: int64"
      ]
     },
     "execution_count": 46,
     "metadata": {},
     "output_type": "execute_result"
    }
   ],
   "source": [
    "EV_taxi_range.value_counts()\n",
    "EV_taxi_charge_time.value_counts()"
   ]
  },
  {
   "attachments": {},
   "cell_type": "markdown",
   "metadata": {},
   "source": [
    "# Other - need for ev taxi, climate change, and personal characteristics"
   ]
  },
  {
   "cell_type": "code",
   "execution_count": 37,
   "metadata": {},
   "outputs": [],
   "source": [
    "need_for_e_taxi = df.columns[81:84]\n",
    "possible_to_buy_ev = df[need_for_e_taxi[0]]\n",
    "no_longer_possible_to_buy_ICE = df[need_for_e_taxi[1]]"
   ]
  },
  {
   "cell_type": "code",
   "execution_count": 40,
   "metadata": {},
   "outputs": [],
   "source": [
    "climate_change = df.columns[84:89]\n",
    "climate_concern = df[climate_change[0]]\n",
    "climate_taxis_should_reduce_env_impact = df[climate_change[1]]\n",
    "climate_ICE_taxis_harm_environment = df[climate_change[2]]\n",
    "climate_EV_taxis_help_environment = df[climate_change[3]]\n",
    "climate_govt_should_switch_to_ev = df[climate_change[4]]\n"
   ]
  },
  {
   "cell_type": "code",
   "execution_count": 39,
   "metadata": {},
   "outputs": [],
   "source": [
    "personal_characteristics = df.columns[89:92]\n",
    "personal_risk_taker = df[personal_characteristics[0]]\n",
    "peronsal_trust_people = df[personal_characteristics[1]]\n",
    "personal_trust_tech = df[personal_characteristics[2]]"
   ]
  },
  {
   "cell_type": "markdown",
   "metadata": {},
   "source": []
  },
  {
   "cell_type": "code",
   "execution_count": 52,
   "metadata": {},
   "outputs": [],
   "source": [
    "## Analysis tools"
   ]
  },
  {
   "attachments": {},
   "cell_type": "markdown",
   "metadata": {},
   "source": [
    "pd.crosstab()\n",
    "\n",
    "value_counts\n",
    "\n",
    "groupby([]).size.unstack\n",
    "\n",
    "groupby value counts"
   ]
  },
  {
   "attachments": {},
   "cell_type": "markdown",
   "metadata": {},
   "source": [
    "## <font color = 'orange'> Crosstabs <font>"
   ]
  },
  {
   "cell_type": "code",
   "execution_count": null,
   "metadata": {},
   "outputs": [],
   "source": [
    "'''\n",
    "Input columns to crosstab, return crosstab df (and plot?)\n",
    "'''\n",
    "def get_crosstabs(df, features, targets):\n",
    "    ctabs = {}\n",
    "    for target in targets:\n",
    "        ctabs[target] = {}\n",
    "        for feature in features:\n",
    "            ctabs[target][feature] = pd.crosstab(df[feature], df[target])\n",
    "    return ctabs \n",
    "# Look at relationship of region on target variables\n",
    "demographics_crosstabs = get_crosstabs(df, demographics, targets)\n",
    "# ctab = pd.crosstab(df[demographics[0]], df[targets[0]])\n",
    "# ctab[ctab.columns[(ctab>25).any()]].to_csv('region_benefits.csv')\n",
    "educational_crosstabs = get_crosstabs(df, education, targets)\n",
    "# pd.crosstab(df[demographics[0]], df[targets[1]]).to_csv('region_risks.csv')\n",
    "\n",
    "# pd.crosstab(df[demographics[0]], df[targets[2]]).to_csv('region_decision.csv')\n",
    "\n",
    "# # Look at effect of city/urban rural on target variables\n",
    "# demographics[1]\n",
    "\n",
    "# # Look at effect of home language on target variables\n",
    "# demographics[2]\n",
    "\n",
    "\n",
    "# # Look at effect of age on target variables\n",
    "# demographics[3]\n",
    "\n",
    "# # Look at effect of area of living in\n",
    "# demographics[4]\n",
    "\n",
    "# # Look at effect of home language \n",
    "# demographics[5]\n",
    "\n",
    "# # Look at effect of age \n",
    "\n",
    "\n",
    "# # Effect of sex on target variables\n",
    "# demographics[6]\n",
    "\n"
   ]
  },
  {
   "cell_type": "code",
   "execution_count": null,
   "metadata": {},
   "outputs": [],
   "source": [
    "df['What is the highest level of schooling have you succesfully completed or passed?'].value_counts()"
   ]
  },
  {
   "attachments": {},
   "cell_type": "markdown",
   "metadata": {},
   "source": [
    "Plot stacked bar function"
   ]
  },
  {
   "cell_type": "code",
   "execution_count": null,
   "metadata": {},
   "outputs": [],
   "source": [
    "def plot_stacked_bar_crosstab(df, feature, target):\n",
    "    pd.crosstab(df[feature], df[target], normalize = 'index').plot(kind = 'bar', stacked = True)\n",
    "    plt.legend(loc = 'center left', bbox_to_anchor = (1, 0.5))\n",
    "    plt.title(f'\"{target}\" by gender')\n",
    "    plt.show()\n",
    "plot_stacked_bar_crosstab(df, demographics[5], targets[2])"
   ]
  },
  {
   "attachments": {},
   "cell_type": "markdown",
   "metadata": {},
   "source": [
    "Spilt by educational attainment"
   ]
  },
  {
   "cell_type": "code",
   "execution_count": null,
   "metadata": {},
   "outputs": [],
   "source": [
    "df"
   ]
  },
  {
   "cell_type": "code",
   "execution_count": null,
   "metadata": {},
   "outputs": [],
   "source": [
    "df.groupby(education[0]).sum(df[target]).plot"
   ]
  },
  {
   "cell_type": "code",
   "execution_count": null,
   "metadata": {},
   "outputs": [],
   "source": [
    "pd.crosstab(df[education[0]], df[targets[2]])\n",
    "from matplotlib.category import UnitData\n",
    "# get crosstab with percents\n",
    "#round(pd.crosstab(df[education[0]], df[targets[2]], normalize='index'),2).to_csv('education_decision.csv')\n",
    "#print(round(100 * pd.crosstab(df[education[0]], df[targets[2]], normalize='index'),2).to_latex())\n",
    "ctab = round(100 * pd.crosstab(df[education[0]], df[targets[2]], normalize='index'),2)\n",
    "#ctab = round(pd.crosstab(df[education[0]], df[targets[2]]),2)\n",
    "ctab = ctab[answers]\n",
    "print(ctab)\n",
    "grade_labels = ['No Schooling', \n",
    "                'Grade 2 (previously Sub A / class 2)', \n",
    "                'Grade 3 (Std. 1)',\n",
    "                'Grade 4 (Std. 2)', \n",
    "                'Grade 5 (Std. 3)',\n",
    "                'Grade 6 (Std. 4)',\n",
    "                'Grade 7 (Std. 5)',\n",
    "                'Grade 8 (Std. 6 / Form 1)',\n",
    "                'Grade 9 (Std. 7 / Form 2)',\n",
    "                'Grade 10 (Std. 8 / Form 3)',\n",
    "                'Grade 11 (Std. 9 / Form 4)',\n",
    "                'Grade 12 (Std. 10 / Matric / Senior Certificate / Form 5)']\n",
    "category_order = [cat for cat in grade_labels if cat in ctab.index]\n",
    "\n",
    "df['Please select the option that applies to you:']\n",
    "\n",
    "ctab = pd.crosstab( df['On WEEKDAYS, how many hours do you drive a taxi per day?'], df[targets[2]], normalize = 'index')[answers].plot(kind = 'bar', stacked = True)\n",
    "plt.legend(loc='center left', bbox_to_anchor=(1.0, 0.5))\n",
    "#ctab.loc[category_order].plot(kind='bar', stacked=True)\n",
    "plt.show()\n",
    "\n",
    "\n",
    "#category_order = grade_labels[:len(ctab.index)]\n",
    "category_order = [cat for cat in grade_labels if cat in ctab.index]\n",
    "ctab.loc[category_order].plot(kind='bar', stacked=True)\n",
    "plt.xticks(range(len(category_order)), category_order)\n",
    "plt.legend(loc='center left', bbox_to_anchor=(1.0, 0.5))\n",
    "plt.ylabel('Percent each response (%)')\n",
    "plt.title(\"Driving an electric taxi would be better than driving a petrol/diesel taxi vs educational attainment (normalized)\")\n",
    "plt.savefig('figures/education_decision_percent.png', bbox_inches='tight')\n",
    "plt.show()\n",
    "\n",
    "ctab = round(pd.crosstab(df[education[0]], df[targets[2]]),2)\n",
    "ctab = ctab[answers]\n",
    "print(ctab)\n",
    "ctab.loc[category_order].plot(kind='bar', stacked=True)\n",
    "plt.legend(loc='center left', bbox_to_anchor=(1.0, 0.5))\n",
    "plt.ylabel('Count each response (#)')\n",
    "plt.title(\"Driving an electric taxi would be better than driving a petrol/diesel taxi vs educational attainment (absolute count)\")\n",
    "plt.savefig('figures/education_decision_count.png', bbox_inches='tight')\n",
    "plt.show()\n"
   ]
  },
  {
   "cell_type": "code",
   "execution_count": null,
   "metadata": {},
   "outputs": [],
   "source": [
    "df['Do you know what an electric taxi is'].value_counts()"
   ]
  },
  {
   "cell_type": "code",
   "execution_count": null,
   "metadata": {},
   "outputs": [],
   "source": [
    "#take out all responses with semicolon\n",
    "target = df[df['How do you expect an electric taxi will benefit you compared to petrol/diesel taxis? (select all that apply)'].str.contains(';') == False]\n",
    "target"
   ]
  },
  {
   "cell_type": "code",
   "execution_count": null,
   "metadata": {},
   "outputs": [],
   "source": [
    "d_o_u = df['Please select the option that applies to you:']\n",
    "d_o_u = df['Please select the option that applies to you:'] \n",
    "do_you_know = df['Do you know what an electric taxi is']"
   ]
  },
  {
   "cell_type": "code",
   "execution_count": null,
   "metadata": {},
   "outputs": [],
   "source": [
    "pd.crosstab(d_o_u, do_you_know, normalize = 'index')\n"
   ]
  },
  {
   "cell_type": "code",
   "execution_count": null,
   "metadata": {},
   "outputs": [],
   "source": [
    "# plt.legend(loc='center left', bbox_to_anchor=(1.0, 0.5))\n",
    "# plt.show()"
   ]
  },
  {
   "attachments": {},
   "cell_type": "markdown",
   "metadata": {},
   "source": [
    "Income"
   ]
  },
  {
   "cell_type": "code",
   "execution_count": null,
   "metadata": {},
   "outputs": [],
   "source": [
    "income = df[df['What is your approximate average income per\\xa0day? (in South African Rand)'] < 5000]\n",
    "plt.hist(income['What is your approximate average income per\\xa0day? (in South African Rand)'], bins = 20)\n",
    "#speeds.plot(='density', title='Density of Instantaneous Speeds')"
   ]
  },
  {
   "attachments": {},
   "cell_type": "markdown",
   "metadata": {},
   "source": [
    "## <font color = 'orange'> Logistic Regression </font>"
   ]
  },
  {
   "cell_type": "code",
   "execution_count": null,
   "metadata": {},
   "outputs": [],
   "source": [
    "demographics = demographics.drop('In which area are you living in now?')\n",
    "category_map = {\n",
    "    'Don\\'t know': 5,\n",
    "    'Strongly agree': 4,\n",
    "    'Agree': 3,\n",
    "    'Neutral': 2,\n",
    "    'Disagree': 1,\n",
    "    'Strongly Disagree': 0\n",
    "}\n",
    "\n",
    "# Extract features and outcomes \n",
    "logit_df = df[education[0]]\n",
    "logit_df = pd.get_dummies(logit_df)\n",
    "logit_df = logit_df.join(df[targets[2]].map(category_map))\n",
    "logit_df.dropna(inplace = True)\n",
    "\n",
    "# Define features and target variables\n",
    "X = logit_df.drop(targets[2], axis = 1)\n",
    "y = logit_df[targets[2]]\n",
    "\n",
    "# Split into train/test\n",
    "X_train, X_test, y_train, y_test = train_test_split(X, y, test_size=0.2, random_state=42)\n",
    "\n",
    "# Fit model \n",
    "logreg = LogisticRegression()\n",
    "logreg.fit(X_train, y_train)\n",
    "\n",
    "# predict on X test set\n",
    "y_pred = logreg.predict(X_test)\n",
    "\n",
    "# Evaluate performance of model on y test set \n",
    "print(\"Accuracy:\", accuracy_score(y_test, y_pred))\n",
    "print(\"Precision:\", precision_score(y_test, y_pred, average='weighted'))\n",
    "print(\"Recall:\", recall_score(y_test, y_pred, average='weighted'))\n"
   ]
  },
  {
   "cell_type": "code",
   "execution_count": null,
   "metadata": {},
   "outputs": [],
   "source": [
    "logreg.coef_"
   ]
  },
  {
   "cell_type": "code",
   "execution_count": null,
   "metadata": {},
   "outputs": [],
   "source": [
    "# Get the odds ratios\n",
    "odds_ratios = np.exp(logreg.coef_)\n",
    "categories = ['Don\\'t know', 'Strongly agree', 'Agree', 'Neutral', 'Disagree', 'Strongly Disagree']\n",
    "\n",
    "# Print the odds ratios\n",
    "print(\"Odds Ratios:\")\n",
    "odds_df = pd.DataFrame(index = [f'{feature} - {outcome}' for feature in X.columns for outcome in categories], columns = ['Odds Ratio'])\n",
    "odds_df = pd.ata`fr`\n",
    "for i, feature in enumerate(X.columns):\n",
    "    for j, outcome in enumerate(categories):\n",
    "        odds_df.loc[f'{feature} - {outcome}'] = f'{odds_ratios[j][i]:.3f}'\n",
    "        print(f\"{feature} - {outcome}: {odds_ratios[j][i]:.3f}\")\n"
   ]
  },
  {
   "cell_type": "code",
   "execution_count": null,
   "metadata": {},
   "outputs": [],
   "source": [
    "print(odds_df.to_latex())"
   ]
  },
  {
   "attachments": {},
   "cell_type": "markdown",
   "metadata": {},
   "source": [
    "Correlation analysis"
   ]
  },
  {
   "cell_type": "code",
   "execution_count": null,
   "metadata": {},
   "outputs": [],
   "source": [
    "import scipy.stats as stats\n",
    "\n",
    "# Extract features and outcomes \n",
    "corr_df = df[demographics]\n",
    "corr_df = pd.get_dummies(corr_df)\n",
    "corr_df = corr_df.join(df[targets[2]].map(category_map))\n",
    "corr_df.dropna(inplace = True)\n",
    "\n",
    "# Calculate correlation coefficients\n",
    "correlations = []\n",
    "for feature in X.columns:\n",
    "    corr, _ = stats.pearsonr(corr_df[feature], corr_df[targets[2]])\n",
    "    correlations.append((feature, corr))\n",
    "\n",
    "# Print and save results\n",
    "correlations.sort(key=lambda x: abs(x[1]), reverse=True)\n",
    "for feature, corr in correlations:\n",
    "    print(f\"{feature}:\\t{corr:.3f}\")\n"
   ]
  },
  {
   "cell_type": "code",
   "execution_count": null,
   "metadata": {},
   "outputs": [],
   "source": [
    "outcome_categories = df[targets[2]].unique()\n",
    "\n",
    "for outcome in outcome_categories:\n",
    "    print(f\"Correlations for Outcome: {outcome}\")\n",
    "    print(\"-\" * 50)\n",
    "    outcome_df = df[df[targets[2]] == outcome]\n",
    "    for feature in demographics:\n",
    "        corr = outcome_df[feature].corr(outcome_df[targets[2]])\n",
    "        print(f\"{feature}: {corr:.3f}\")\n",
    "    print(\"\\n\")\n"
   ]
  },
  {
   "attachments": {},
   "cell_type": "markdown",
   "metadata": {},
   "source": [
    "To LaTeX"
   ]
  },
  {
   "cell_type": "code",
   "execution_count": null,
   "metadata": {},
   "outputs": [],
   "source": [
    "import tabulate\n",
    "\n",
    "# Convert the odds ratios to a list of lists\n",
    "odds_ratios_list = [[f\"{odds:.3f}\" for odds in feature_odds] for feature_odds in odds_ratios]\n",
    "\n",
    "# Get the list of outcome categories\n",
    "outcome_categories = list(category_map.keys())\n",
    "\n",
    "# Add a header row with the outcome categories\n",
    "table_data = [outcome_categories] + odds_ratios_list\n",
    "\n",
    "# Add the feature names as the first column\n",
    "feature_names = X.columns.tolist()\n",
    "table_data = [[name] + row for name, row in zip(feature_names, table_data)]\n",
    "\n",
    "# Use tabulate to format the table\n",
    "table_str = tabulate.tabulate(table_data, headers=\"firstrow\", tablefmt=\"latex_booktabs\")\n",
    "\n",
    "# Print the LaTeX code for the table\n",
    "print(table_str)\n"
   ]
  },
  {
   "cell_type": "code",
   "execution_count": null,
   "metadata": {},
   "outputs": [],
   "source": [
    "logreg=LogisticRegression(multi_class='multinomial', solver='lbfgs')\n",
    "logreg.fit(X_train, y_train)\n",
    "y_pred = logreg.predict(X_test)\n",
    "print('Accuracy:', accuracy_score(y_test, y_pred))"
   ]
  },
  {
   "cell_type": "code",
   "execution_count": null,
   "metadata": {},
   "outputs": [],
   "source": [
    "coef_table = pd.DataFrame({'feature': X.columns, 'coef': logreg.coef_[0]})\n",
    "coef_table\n"
   ]
  },
  {
   "attachments": {},
   "cell_type": "markdown",
   "metadata": {},
   "source": [
    "# <font color = 'orange'> Prototype analysis </font>"
   ]
  },
  {
   "attachments": {},
   "cell_type": "markdown",
   "metadata": {},
   "source": [
    "## Dython\n",
    "This doesn't tell me anything"
   ]
  },
  {
   "cell_type": "code",
   "execution_count": null,
   "metadata": {},
   "outputs": [],
   "source": [
    "from dython.nominal import identify_nominal_columns\n",
    "categorical_features = identify_nominal_columns(df[demographics])\n",
    "associations(df[demographics])\n",
    "#This doesn't work because the categories aren't ordered so the final values are meaningless - even if they were it would be difficult to interpret"
   ]
  },
  {
   "attachments": {},
   "cell_type": "markdown",
   "metadata": {},
   "source": [
    "## <font color = 'orange'> Powerful double crosstab tekneek!! <font>"
   ]
  },
  {
   "cell_type": "code",
   "execution_count": null,
   "metadata": {},
   "outputs": [],
   "source": [
    "df.groupby([targets[2], education[0]]).agg('sum').unstack(targets[2])['How many days of the week do you drive a taxi']"
   ]
  },
  {
   "attachments": {},
   "cell_type": "markdown",
   "metadata": {},
   "source": [
    "## Example of One Hot Encoding"
   ]
  },
  {
   "cell_type": "code",
   "execution_count": null,
   "metadata": {},
   "outputs": [],
   "source": [
    "#creating instance of one-hot-encoder\n",
    "encoder = OneHotEncoder(handle_unknown='ignore')\n",
    "\n",
    "#perform one-hot encoding on 'team' column \n",
    "encoder_df = pd.DataFrame(encoder.fit_transform(df[['Please select the option that applies to you:']]).toarray())\n",
    "encoder_df.columns = encoder.get_feature_names_out()\n",
    "#merge one-hot encoded columns back with original DataFrame\n",
    "#final_df = df.join(encoder_df)\n",
    "\n",
    "#view final df\n",
    "print(encoder_df.sum(axis = 0))\n"
   ]
  },
  {
   "cell_type": "markdown",
   "metadata": {},
   "source": []
  },
  {
   "attachments": {},
   "cell_type": "markdown",
   "metadata": {},
   "source": [
    "## <font color = 'orange'> Factor analysis <font>"
   ]
  },
  {
   "attachments": {},
   "cell_type": "markdown",
   "metadata": {},
   "source": [
    "Adequacy test"
   ]
  },
  {
   "cell_type": "code",
   "execution_count": null,
   "metadata": {},
   "outputs": [],
   "source": [
    "from factor_analyzer.factor_analyzer import calculate_bartlett_sphericity\n",
    "from factor_analyzer.factor_analyzer import calculate_kmo\n",
    "# chi_sq_val, p_val = calculate_bartlett_sphericity(df[demographics])\n",
    "# chi_sq_val, p_val\n",
    "kmo_all, kmo_model = calculate_kmo(df[targets])\n"
   ]
  },
  {
   "attachments": {},
   "cell_type": "markdown",
   "metadata": {},
   "source": [
    "What factors do I hypothesize exist in the data?...\n",
    "\n",
    "Political leanings\n",
    "\n",
    "Quality of life\n",
    "\n",
    "Income"
   ]
  },
  {
   "cell_type": "code",
   "execution_count": null,
   "metadata": {},
   "outputs": [],
   "source": [
    "# Create a new dataframe with just the survey questions\n",
    "X = df.iloc[0:15]\n",
    "\n",
    "# Create a factor analysis object with 3 factors\n",
    "fa = FactorAnalyzer(n_factors=3, rotation='varimax')\n",
    "\n",
    "# Fit the factor analysis to the survey data\n",
    "fa.fit(X)\n",
    "\n",
    "# Print the factor loadings\n",
    "print(fa.loadings_)"
   ]
  }
 ],
 "metadata": {
  "kernelspec": {
   "display_name": "base",
   "language": "python",
   "name": "python3"
  },
  "language_info": {
   "codemirror_mode": {
    "name": "ipython",
    "version": 3
   },
   "file_extension": ".py",
   "mimetype": "text/x-python",
   "name": "python",
   "nbconvert_exporter": "python",
   "pygments_lexer": "ipython3",
   "version": "3.9.13"
  },
  "orig_nbformat": 4,
  "vscode": {
   "interpreter": {
    "hash": "1c4f4a357890f65c724899bbab8dd054c40207398d57642f947969103c8d943f"
   }
  }
 },
 "nbformat": 4,
 "nbformat_minor": 2
}
