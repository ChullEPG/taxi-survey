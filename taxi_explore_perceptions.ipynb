{
 "cells": [
  {
   "cell_type": "code",
   "execution_count": null,
   "metadata": {},
   "outputs": [],
   "source": [
    "import pandas as pd\n",
    "import numpy as np\n",
    "from factor_analyzer import FactorAnalyzer\n",
    "from sklearn.preprocessing import OneHotEncoder\n",
    "import matplotlib.pyplot as plt\n",
    "from sklearn import linear_model\n",
    "from sklearn.model_selection import train_test_split\n",
    "import seaborn as sns\n",
    "from scipy import stats\n",
    "import dython as dy # for nominal categorical data\n",
    "from dython.nominal import associations \n",
    "from sklearn.linear_model import LogisticRegression\n",
    "from sklearn.metrics import accuracy_score, precision_score, recall_score\n",
    "import os \n",
    "import taxi_survey \n",
    "from imp import reload\n",
    "reload(taxi_survey)\n",
    "from taxi_survey import *\n",
    "from mord import LogisticIT\n",
    "from mord import OrdinalRidge\n",
    "from sklearn.model_selection import train_test_split\n",
    "from statsmodels.miscmodels.ordinal_model import OrderedModel\n",
    "from pandas.api.types import CategoricalDtype\n",
    "import statsmodels.api as sm\n",
    "from statsmodels.formula.api import ols\n",
    "from scipy.stats import ttest_ind"
   ]
  },
  {
   "cell_type": "code",
   "execution_count": null,
   "metadata": {},
   "outputs": [],
   "source": [
    "df_raw = pd.read_excel(\"Electric Taxis in South Africa(1-5000).xlsx\")\n",
    "df_raw = df_raw.append(pd.read_excel('Electric Taxis in South Africa(5001-5703).xlsx'))\n",
    "df = df_raw.copy()\n",
    "df.drop(df.columns[0:7], axis = 1, inplace = True)\n",
    "df\n",
    "driver_owner_user = df['Please select the option that applies to you:']\n",
    "demographics = df.columns[0:6]\n",
    "education = df.columns[6:10]\n",
    "driver_owner_user = df['Please select the option that applies to you:'] # Question 10 \n",
    "driver_questions=  df.columns[11:22]\n",
    "owner_questions = df.columns[22:35]\n",
    "owner_driver_questions = df.columns[35:47]\n",
    "demographics = df.columns[0:6]\n",
    "province_or_country = df[demographics[0]]\n",
    "city_or_rural = df[demographics[1]]\n",
    "which_area_now = df[demographics[2]]\n",
    "language = df[demographics[3]]\n",
    "age = df[demographics[4]]\n",
    "gender = df[demographics[5]]\n",
    "education = df.columns[6:10]\n",
    "highest_lvl_schooling = df[education[0]]\n",
    "any_tertiary = df[education[1]]\n",
    "any_education_after_school = df[education[2]]\n",
    "highest_lvl_tertiary = df[education[3]]\n",
    "driver_questions=  df.columns[11:22]\n",
    "driver_how_long_driving = df[driver_questions[0]]\n",
    "driver_how_many_days_per_week_driving = df[driver_questions[1]]\n",
    "driver_what_days_drive = df[driver_questions[2]]\n",
    "driver_hours_drive_per_weekday = df[driver_questions[3]]\n",
    "driver_km_per_weekday = df[driver_questions[4]]\n",
    "driver_hours_drive_per_weekend = df[driver_questions[5]]\n",
    "driver_income_per_day = df[driver_questions[6]]\n",
    "driver_knows_what_e_taxi_is = df[driver_questions[7]]\n",
    "driver_e_taxi_benefit_vs_ICE = df[driver_questions[8]]\n",
    "driver_e_taxi_risks_vs_ICE = df[driver_questions[9]]\n",
    "driver_e_taxi_better_than_ICE = df[driver_questions[10]]\n",
    "owner_questions = df.columns[22:35]\n",
    "owner_num_taxis = df[owner_questions[0]]\n",
    "owner_how_long_owned_taxi = df[owner_questions[1]]\n",
    "owner_petrol_or_diesel = df[owner_questions[2]]\n",
    "owner_how_old_oldest_vehicle = df[owner_questions[3]]\n",
    "owner_how_old_average_vehicle = df[owner_questions[4]]\n",
    "owner_km_per_day = df[owner_questions[5]]\n",
    "owner_income_per_week = df[owner_questions[6]]\n",
    "owner_e_taxi_benefit_vs_ICE = df[owner_questions[7]]\n",
    "owner_e_taxi_risks_vs_ICE = df[owner_questions[8]]\n",
    "owner_e_taxi_better_than_ICE = df[owner_questions[9]]\n",
    "owner_which_costs_more_to_run_ICE_or_etaxi = df[owner_questions[10]]\n",
    "owner_which_costs_more_to_buy_ICE_or_etaxi = df[owner_questions[11]]\n",
    "owner_which_costs_more_to_service_ICE_or_etaxi = df[owner_questions[12]]\n",
    "owner_driver_questions = df.columns[35:55]\n",
    "owner_driver_num_taxis = df[owner_driver_questions[0]]\n",
    "owner_driver_how_long_owned_taxi = df[owner_driver_questions[1]]\n",
    "owner_driver_petrol_or_diesel = df[owner_driver_questions[2]]\n",
    "owner_driver_how_old_oldest_vehicle = df[owner_driver_questions[3]]\n",
    "owner_driver_how_old_average_vehicle = df[owner_driver_questions[4]]\n",
    "owner_driver_how_far_per_day = df[owner_driver_questions[5]]\n",
    "owner_driver_how_long_driven_taxi = df[owner_driver_questions[6]]\n",
    "owner_driver_number_days_per_week = df[owner_driver_questions[7]]\n",
    "owner_driver_what_days_drive = df[owner_driver_questions[8]]\n",
    "owner_driver_hours_drive_per_weekday = df[owner_driver_questions[9]]\n",
    "owner_driver_km_per_weekday_belief = df[owner_driver_questions[10]]\n",
    "owner_driver_hours_drive_per_weekend = df[owner_driver_questions[11]]\n",
    "owner_driver_income_per_week = df[owner_driver_questions[12]]\n",
    "owner_driver_e_taxi_benefit_vs_ICE = df[owner_driver_questions[13]]\n",
    "owner_driver_e_taxi_risks_vs_ICE = df[owner_driver_questions[14]]\n",
    "owner_driver_e_taxi_better_than_ICE = df[owner_driver_questions[15]]\n",
    "owner_driver_e_taxi_will_be_better_than_ICE = df[owner_driver_questions[16]]\n",
    "owner_driver_which_costs_more_to_run_ICE_or_etaxi = df[owner_driver_questions[17]]\n",
    "owner_driver_which_costs_more_to_buy_ICE_or_etaxi = df[owner_driver_questions[18]]\n",
    "owner_driver_which_costs_more_to_service_ICE_or_etaxi = df[owner_driver_questions[19]]\n",
    "user_questions = df.columns[70:81]\n",
    "user_how_long = user_questions[0]\n",
    "user_how_many_days_per_week = user_questions[1]\n",
    "user_what_days = user_questions[2]\n",
    "user_how_far_normal_trip = user_questions[3]\n",
    "user_avg_trip_cost = user_questions[4]\n",
    "user_ICE_taxis_too_expensive = user_questions[5]\n",
    "user_knows_what_e_taxi_is = user_questions[6]\n",
    "owner_driver_e_taxi_benefit = user_questions[7]\n",
    "owner_driver_e_taxi_risks = user_questions[8]\n",
    "owner_environmental_conscience = user_questions[9]\n",
    "user_price_vs_time_prefs = user_questions[10]\n",
    "perceptions_of_ICE_taxi = df.columns[55:60]\n",
    "ICE_taxi_safe = df[perceptions_of_ICE_taxi[0]]\n",
    "ICE_taxi_reliable = df[perceptions_of_ICE_taxi[1]]\n",
    "ICE_taxi_fuel_expensive = df[perceptions_of_ICE_taxi[2]]\n",
    "ICE_taxi_purchase_expensive = df[perceptions_of_ICE_taxi[3]]\n",
    "ICE_taxi_service_expensive = df[perceptions_of_ICE_taxi[4]]\n",
    "perceptions_of_EV_taxi = df.columns[60:70]\n",
    "EV_taxi_range = df[perceptions_of_EV_taxi[0]]\n",
    "EV_taxi_charge_time = df[perceptions_of_EV_taxi[1]]\n",
    "EV_taxi_purchase_decision = df[perceptions_of_EV_taxi[2]]\n",
    "EV_taxi_purchase_price_threshold = df[perceptions_of_EV_taxi[3]]\n",
    "EV_taxi_should_happen = df[perceptions_of_EV_taxi[4]]\n",
    "EV_taxi_worried_about_stations = df[perceptions_of_EV_taxi[5]]\n",
    "EV_taxi_affected_by_loadshedding = df[perceptions_of_EV_taxi[6]]\n",
    "EV_taxi_charging_expensive = df[perceptions_of_EV_taxi[7]]\n",
    "EV_taxi_purchase_expensive = df[perceptions_of_EV_taxi[8]]\n",
    "EV_taxi_service_expensive = df[perceptions_of_EV_taxi[9]]\n",
    "climate_change = df.columns[84:89]\n",
    "climate_concern = df[climate_change[0]]\n",
    "climate_taxis_should_reduce_env_impact = df[climate_change[1]]\n",
    "climate_ICE_taxis_harm_environment = df[climate_change[2]]\n",
    "climate_EV_taxis_help_environment = df[climate_change[3]]\n",
    "climate_govt_should_switch_to_ev = df[climate_change[4]]\n",
    "personal_characteristics = df.columns[89:92]\n",
    "personal_risk_taker = df[personal_characteristics[0]]\n",
    "peronsal_trust_people = df[personal_characteristics[1]]\n",
    "personal_trust_tech = df[personal_characteristics[2]]"
   ]
  },
  {
   "attachments": {},
   "cell_type": "markdown",
   "metadata": {},
   "source": [
    "# Exploring perceptions related to EVs\n",
    "Perception of benefits vs perception of risks <br>\n",
    "Perception of risks vs risk profile <br>\n",
    "Concern for climate change vs. perception of benefits <br>\n",
    "Effect of 'age','income', 'education' on 'having an electric taxi would benefit your business', 'which one would cost more to run', 'which one would cost more to buy', 'which one would have more service costs', and 'concern for climate change' <br>\n"
   ]
  },
  {
   "attachments": {},
   "cell_type": "markdown",
   "metadata": {},
   "source": [
    "Define 'perceptions' target variables "
   ]
  },
  {
   "cell_type": "code",
   "execution_count": null,
   "metadata": {},
   "outputs": [],
   "source": [
    "driver_perceptions = driver_questions[8:11]\n",
    "print(driver_perceptions)\n",
    "owner_perceptions = owner_questions[-6:]\n",
    "print(owner_perceptions)\n",
    "owner_driver_perceptions = owner_driver_questions[-7:]\n",
    "print(owner_driver_perceptions)"
   ]
  },
  {
   "attachments": {},
   "cell_type": "markdown",
   "metadata": {},
   "source": [
    "### Driver vs. Owner vs. User perceptions of benefits and risks"
   ]
  },
  {
   "cell_type": "markdown",
   "metadata": {},
   "source": [
    "Benefits"
   ]
  },
  {
   "cell_type": "code",
   "execution_count": null,
   "metadata": {},
   "outputs": [],
   "source": [
    "# Driver perceptions\n",
    "df['driver_benefits_of_etaxi_exploded'] = df[driver_perceptions[0]].str.split(';')\n",
    "exploded_df_driver = df.explode('driver_benefits_of_etaxi_exploded')\n",
    "exploded_df_driver = exploded_df_driver[(exploded_df_driver['driver_benefits_of_etaxi_exploded'] != '') & (exploded_df_driver['driver_benefits_of_etaxi_exploded'].notnull())]\n",
    "\n",
    "# Owner perceptions \n",
    "df['owner_benefits_of_etaxi_exploded'] = df[owner_perceptions[0]].str.split(';')\n",
    "exploded_df_owner = df.explode('owner_benefits_of_etaxi_exploded')\n",
    "exploded_df_owner = exploded_df_owner[(exploded_df_owner['owner_benefits_of_etaxi_exploded'] != '') & (exploded_df_owner['owner_benefits_of_etaxi_exploded'].notnull())]\n",
    "\n",
    "# Driver + Owner perceptions \n",
    "df['owner_driver_benefits_of_etaxi_exploded'] = df[owner_driver_perceptions[0]].str.split(';')\n",
    "exploded_df_owner_driver = df.explode('owner_driver_benefits_of_etaxi_exploded')\n",
    "exploded_df_owner_driver = exploded_df_owner_driver[(exploded_df_owner_driver['owner_driver_benefits_of_etaxi_exploded'] != '') & (exploded_df_owner_driver['owner_driver_benefits_of_etaxi_exploded'].notnull())]\n",
    "\n",
    "fig, axs = plt.subplots(1, 3, figsize = (20, 5))\n",
    "fig.subplots_adjust(wspace = 0.3)\n",
    "exploded_df_driver['driver_benefits_of_etaxi_exploded'].value_counts().plot(kind='bar', stacked=True, ax=axs[0], title='Driver Perceptions of EV benefits', color = 'blue', ylabel = 'Count')\n",
    "exploded_df_owner['owner_benefits_of_etaxi_exploded'].value_counts().plot(kind='bar', stacked=True, ax=axs[1], title='Owner Perceptions of EV benefits', color = 'red', ylabel = 'Count')\n",
    "exploded_df_owner_driver['owner_driver_benefits_of_etaxi_exploded'].value_counts().plot(kind='bar', stacked=True, ax=axs[2], title='Driver/Owner Perceptions of EV benefits', color = 'purple', ylabel = 'Count')\n",
    "plt.tight_layout()\n",
    "plt.savefig('figures/dou_ev_benefits_perceptions_comparison.png')\n",
    "plt.show()"
   ]
  },
  {
   "attachments": {},
   "cell_type": "markdown",
   "metadata": {},
   "source": [
    "Risks"
   ]
  },
  {
   "cell_type": "code",
   "execution_count": null,
   "metadata": {},
   "outputs": [],
   "source": [
    "# Driver perceptions\n",
    "df['driver_risks_of_etaxi_exploded'] = df[driver_perceptions[1]].str.split(';')\n",
    "exploded_df_driver = df.explode('driver_risks_of_etaxi_exploded')\n",
    "exploded_df_driver = exploded_df_driver[(exploded_df_driver['driver_risks_of_etaxi_exploded'] != '') & (exploded_df_driver['driver_risks_of_etaxi_exploded'].notnull())]\n",
    "\n",
    "# Owner perceptions \n",
    "df['owner_risks_of_etaxi_exploded'] = df[owner_perceptions[1]].str.split(';')\n",
    "exploded_df_owner = df.explode('owner_risks_of_etaxi_exploded')\n",
    "exploded_df_owner = exploded_df_owner[(exploded_df_owner['owner_risks_of_etaxi_exploded'] != '') & (exploded_df_owner['owner_risks_of_etaxi_exploded'].notnull())]\n",
    "\n",
    "# Driver + Owner perceptions \n",
    "df['owner_driver_risks_of_etaxi_exploded'] = df[owner_driver_perceptions[1]].str.split(';')\n",
    "exploded_df_owner_driver = df.explode('owner_driver_risks_of_etaxi_exploded')\n",
    "exploded_df_owner_driver = exploded_df_owner_driver[(exploded_df_owner_driver['owner_driver_risks_of_etaxi_exploded'] != '') & (exploded_df_owner_driver['owner_driver_risks_of_etaxi_exploded'].notnull())]\n",
    "\n",
    "fig, axs = plt.subplots(1, 3, figsize = (20, 5))\n",
    "fig.subplots_adjust(wspace = 0.3)\n",
    "exploded_df_driver['driver_risks_of_etaxi_exploded'].value_counts().plot(kind='bar', stacked=True, ax=axs[0], title='Driver Perceptions of EV risks', color = 'blue', ylabel = 'Count')\n",
    "exploded_df_owner['owner_risks_of_etaxi_exploded'].value_counts().plot(kind='bar', stacked=True, ax=axs[1], title='Owner Perceptions of EV risks', color = 'red', ylabel = 'Count')\n",
    "exploded_df_owner_driver['owner_driver_risks_of_etaxi_exploded'].value_counts().plot(kind='bar', stacked=True, ax=axs[2], title='Driver/Owner Perceptions of EV risks', color = 'purple', ylabel = 'Count')\n",
    "plt.tight_layout()\n",
    "plt.savefig('figures/dou_ev_risks_perceptions_comparison.png')\n",
    "plt.show()"
   ]
  },
  {
   "attachments": {},
   "cell_type": "markdown",
   "metadata": {},
   "source": [
    "### Stated Preferences"
   ]
  },
  {
   "cell_type": "code",
   "execution_count": null,
   "metadata": {},
   "outputs": [],
   "source": [
    "driver_is_it_better = df[driver_questions[-1]].value_counts(normalize=True)\n",
    "owner_is_it_better = df[owner_questions[-4]].value_counts(normalize=True)\n",
    "owner_driver_is_it_better = df[owner_driver_questions[-4]].value_counts(normalize=True)\n",
    "\n",
    "driver_is_it_better.index = driver_is_it_better.index.str.lower()\n",
    "owner_is_it_better.index = owner_is_it_better.index.str.lower()\n",
    "owner_driver_is_it_better.index = owner_driver_is_it_better.index.str.lower()\n",
    "\n",
    "colors = ['green', 'blue', 'yellow', 'orange', 'red', 'black']\n",
    "\n",
    "reload(taxi_survey) \n",
    "taxi_survey.plot_pref_ev_comparison_among_groups(driver_is_it_better, owner_is_it_better, owner_driver_is_it_better, colors)\n"
   ]
  },
  {
   "attachments": {},
   "cell_type": "markdown",
   "metadata": {},
   "source": [
    "### Knowledge of e-taxi vs. perceptions of e-taxi benefits and risk and stated prefs"
   ]
  },
  {
   "cell_type": "code",
   "execution_count": null,
   "metadata": {},
   "outputs": [],
   "source": [
    "# 'do you know what an electric taxi is' for drivers\n",
    "df[driver_questions[-4]].value_counts().plot(kind = 'bar', stacked = True, color = ['blue', 'green'], ylabel = 'Count', title = 'Do you know what an electric taxi is? (Drivers)')\n",
    "plt.xlabel('')\n",
    "plt.tight_layout()\n",
    "plt.savefig(\"figures/driver_knowledge_of_etaxi.png\")\n",
    "plt.show()\n",
    "\n",
    "# BENEFITS\n",
    "df['driver_benefits_of_etaxi_exploded'] = df[driver_perceptions[0]].str.split(';')\n",
    "exploded_df_driver = df.explode('driver_benefits_of_etaxi_exploded', driver_questions[-4])\n",
    "exploded_df_driver = exploded_df_driver[(exploded_df_driver['driver_benefits_of_etaxi_exploded'] != '') & (exploded_df_driver['driver_benefits_of_etaxi_exploded'].notnull())]\n",
    "pd.crosstab(exploded_df_driver['driver_benefits_of_etaxi_exploded'], exploded_df_driver[driver_questions[-4]], normalize = 'index').plot(kind = 'bar', legend = False,stacked = True, color = ['blue', 'green'], ylabel = 'Count', title = 'Driver Perceptions of EV benefits broken down by knowledge of EV taxi')\n",
    "plt.xlabel('')\n",
    "plt.tight_layout()\n",
    "\n",
    "plt.savefig(\"figures/drivers_knowledge_of_e_taxi_by_benefits.png\")\n",
    "plt.show()\n",
    "\n",
    "# RISKS\n",
    "df['driver_risks_of_etaxi_exploded'] = df[driver_perceptions[1]].str.split(';')\n",
    "exploded_df_driver = df.explode('driver_risks_of_etaxi_exploded', driver_questions[-4])\n",
    "exploded_df_driver = exploded_df_driver[(exploded_df_driver['driver_risks_of_etaxi_exploded'] != '') & (exploded_df_driver['driver_risks_of_etaxi_exploded'].notnull())]\n",
    "pd.crosstab(exploded_df_driver['driver_risks_of_etaxi_exploded'], exploded_df_driver[driver_questions[-4]], normalize = 'index').plot(kind = 'bar', legend = False,stacked = True, color = ['blue', 'green'], ylabel = 'Count', title = 'Driver Perceptions of EV risks broken down by knowledge of EV taxi')\n",
    "plt.xlabel('')\n",
    "plt.tight_layout()\n",
    "plt.savefig(\"figures/drivers_knowledge_of_e_taxi_by_risks.png\")\n",
    "plt.show()\n",
    "\n",
    "# STATED PREFS\n",
    "order = ['Strongly agree', 'Agree', 'Neutral', 'Disagree', 'Strongly Disagree', \"Don't know\"]\n",
    "pd.crosstab(df[driver_perceptions[2]], df[driver_questions[-4]], normalize = 'index').reindex(order).plot(kind = 'bar', stacked = True, legend = False, color = ['blue', 'green'], ylabel = 'Count', title = 'Driver stated preferences on EVs broken down by knowledge of EV taxi')\n",
    "plt.xlabel('')\n",
    "plt.tight_layout()\n",
    "plt.savefig(\"figures/drivers_knowledge_of_e_taxi_by_stated_prefs.png\")\n",
    "plt.show()"
   ]
  },
  {
   "attachments": {},
   "cell_type": "markdown",
   "metadata": {},
   "source": [
    "### Owner vs Driver/Owner perceptions of costs"
   ]
  },
  {
   "cell_type": "code",
   "execution_count": null,
   "metadata": {},
   "outputs": [],
   "source": [
    "owner_op_cost_perceptions = df[owner_perceptions[-3]].value_counts(normalize = True)\n",
    "owner_driver_op_costs_perceptions = df[owner_driver_perceptions[-3]].value_counts(normalize = True)\n",
    "op_colors = ['red', 'orange', 'yellow', 'pink']\n",
    "\n",
    "owner_purchase_cost_perceptions = df[owner_perceptions[-2]].value_counts(normalize = True)\n",
    "owner_driver_purchase_costs_perceptions = df[owner_driver_perceptions[-2]].value_counts(normalize = True)\n",
    "purchase_colors = ['red', 'orange', 'yellow', 'pink']\n",
    "\n",
    "owner_service_cost_perceptions = df[owner_perceptions[-1]].value_counts(normalize = True)\n",
    "owner_driver_service_costs_perceptions = df[owner_driver_perceptions[-1]].value_counts(normalize = True)\n",
    "service_colors = ['red', 'orange', 'yellow', 'pink']\n",
    "\n",
    "reload(taxi_survey)\n",
    "taxi_survey.plot_cost_perception_comparison(owner_op_cost_perceptions, owner_driver_op_costs_perceptions, op_colors, cost_type = 'Operational', question = 'Which one would cost mor to run the taxi per day?')\n",
    "taxi_survey.plot_cost_perception_comparison(owner_purchase_cost_perceptions, owner_driver_purchase_costs_perceptions, purchase_colors, cost_type = 'Purchase', question = 'Which one would cost more to buy?')\n",
    "taxi_survey.plot_cost_perception_comparison(owner_service_cost_perceptions, owner_driver_service_costs_perceptions, service_colors, cost_type = 'Service', question = 'Which one would have more service costs?')\n"
   ]
  },
  {
   "attachments": {},
   "cell_type": "markdown",
   "metadata": {},
   "source": [
    "### Concern for climate change "
   ]
  },
  {
   "cell_type": "code",
   "execution_count": null,
   "metadata": {},
   "outputs": [],
   "source": [
    "pd.crosstab( driver_owner_user, climate_concern, normalize = 'index').plot(kind = 'bar', stacked = True)\n",
    "plt.legend(bbox_to_anchor = (1.0, 0.5), loc = 'center left')"
   ]
  },
  {
   "attachments": {},
   "cell_type": "markdown",
   "metadata": {},
   "source": [
    "Comparison of d,o,u dummy vars on concern for climate change (boxplot, regressions, ANOVA)"
   ]
  },
  {
   "cell_type": "code",
   "execution_count": null,
   "metadata": {},
   "outputs": [],
   "source": [
    "import seaborn as sns\n",
    "\n",
    "boxplot_df = pd.concat([climate_concern, driver_owner_user], axis = 1)\n",
    "##f_melt = pd.melt(reg_df.reset_index(), id_vars = ['How concernd are you about climate change?'], value_vars = reg_df.columns[1:])\n",
    "#df_melt.columns = ['Concern for climate change', 'Status', 'Value']\n",
    "ax = sns.boxplot(x = boxplot_df.columns[0], y = boxplot_df.columns[1], data = boxplot_df)\n",
    "plt.ylabel('')\n",
    "plt.tight_layout()\n",
    "plt.savefig('figures/respondent_type_vs_concern.png')\n",
    "plt.show()"
   ]
  },
  {
   "cell_type": "code",
   "execution_count": null,
   "metadata": {},
   "outputs": [],
   "source": [
    "\n",
    "\n",
    "cat_concern = CategoricalDtype(categories =[1,2,3,4,5,6,7,8,9,10], ordered = True)\n",
    "climate_concern_cats = climate_concern.astype(cat_concern)\n",
    "climate_concern_cats.dtype\n",
    "\n",
    "reg_df = pd.concat([climate_concern, pd.get_dummies(driver_owner_user)], axis = 1)\n",
    "reg_df.dropna(inplace =True)\n",
    "reg_df.columns = ['Concern', 'Drive', 'DriveOwn', 'Own', 'Use']\n",
    "#from statsmodels.miscmodels.ordinal_model import OrderedModel\n",
    "#mod_prob = OrderedModel(probit_df[probit_df.columns[0]], probit_df[probit_df.columns[1]], distr = 'probit')\n",
    "# create the regression model\n",
    "#model = sm.OLS(reg_df[reg_df.columns[0]], reg_df[['Drive a taxi', 'Drive and own a taxi', 'Own a taxi', 'User of taxi service for transport']])\n",
    "model = ols('Concern ~ Drive + DriveOwn + Own + Use', data = reg_df).fit()\n",
    "anova_table = sm.stats.anova_lm(model, typ = 2)\n",
    "# fit the model\n",
    "#results = model.fit()\n",
    "\n",
    "# print the summary of the regression results\n",
    "print(anova_table)\n",
    "t_test = model.t_test(\"Own = Use\")\n",
    "print(t_test)\n",
    "\n",
    "\n",
    "ttest = ttest_ind(reg_df[reg_df['Own'] == 1]['Concern'], reg_df[reg_df['Drive'] == 1]['Concern'])\n",
    "print(ttest)\n",
    "ttest = ttest_ind(reg_df[reg_df['DriveOwn'] == 1]['Concern'], reg_df[reg_df['Drive'] == 1]['Concern'])\n",
    "print(ttest)\n",
    "ttest = ttest_ind(reg_df[reg_df['Own'] == 1]['Concern'], reg_df[reg_df['DriveOwn'] == 1]['Concern'])\n",
    "print(ttest)\n"
   ]
  },
  {
   "attachments": {},
   "cell_type": "markdown",
   "metadata": {},
   "source": [
    "### Risk appetite vs perception of EV risks"
   ]
  },
  {
   "cell_type": "code",
   "execution_count": null,
   "metadata": {},
   "outputs": [],
   "source": [
    "pd.crosstab(driver_owner_user, personal_risk_taker, normalize = 'index').plot(kind = 'bar', stacked = True, title = \"You describe yourself as someone who often takes risk\")\n",
    "plt.legend(bbox_to_anchor = (1.0,0.5), loc = 'center left')\n",
    "plt.ylabel(\"%\")\n",
    "plt.xlabel('')\n",
    "plt.tight_layout()\n",
    "plt.savefig('figures/respondent_type_vs_risk_appetite.png')\n",
    "plt.show()"
   ]
  },
  {
   "attachments": {},
   "cell_type": "markdown",
   "metadata": {},
   "source": [
    "# <font color = 'orange'> ToDO: Effect of risk on perception of risks, benefits, and stated preferences <FONT>"
   ]
  },
  {
   "cell_type": "code",
   "execution_count": null,
   "metadata": {},
   "outputs": [],
   "source": []
  },
  {
   "attachments": {},
   "cell_type": "markdown",
   "metadata": {},
   "source": [
    "# Explore taxi DOU perceptions"
   ]
  },
  {
   "cell_type": "code",
   "execution_count": null,
   "metadata": {},
   "outputs": [],
   "source": []
  }
 ],
 "metadata": {
  "kernelspec": {
   "display_name": "base",
   "language": "python",
   "name": "python3"
  },
  "language_info": {
   "codemirror_mode": {
    "name": "ipython",
    "version": 3
   },
   "file_extension": ".py",
   "mimetype": "text/x-python",
   "name": "python",
   "nbconvert_exporter": "python",
   "pygments_lexer": "ipython3",
   "version": "3.9.13"
  },
  "orig_nbformat": 4
 },
 "nbformat": 4,
 "nbformat_minor": 2
}
