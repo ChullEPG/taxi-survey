{
 "cells": [
  {
   "cell_type": "code",
   "execution_count": 2,
   "metadata": {},
   "outputs": [
    {
     "name": "stderr",
     "output_type": "stream",
     "text": [
      "/var/folders/pb/drvp7crx7qn3x5331z925m1c0000gt/T/ipykernel_27019/861124015.py:16: DeprecationWarning: the imp module is deprecated in favour of importlib; see the module's documentation for alternative uses\n",
      "  from imp import reload\n"
     ]
    }
   ],
   "source": [
    "import pandas as pd\n",
    "import numpy as np\n",
    "from factor_analyzer import FactorAnalyzer\n",
    "from sklearn.preprocessing import OneHotEncoder\n",
    "import matplotlib.pyplot as plt\n",
    "from sklearn import linear_model\n",
    "from sklearn.model_selection import train_test_split\n",
    "import seaborn as sns\n",
    "from scipy import stats\n",
    "import dython as dy # for nominal categorical data\n",
    "from dython.nominal import associations \n",
    "from sklearn.linear_model import LogisticRegression\n",
    "from sklearn.metrics import accuracy_score, precision_score, recall_score\n",
    "import os \n",
    "import taxi_survey \n",
    "from imp import reload\n",
    "reload(taxi_survey)\n",
    "from taxi_survey import *\n",
    "from mord import LogisticIT\n",
    "from mord import OrdinalRidge\n",
    "from sklearn.model_selection import train_test_split\n",
    "from statsmodels.miscmodels.ordinal_model import OrderedModel\n"
   ]
  },
  {
   "cell_type": "code",
   "execution_count": 3,
   "metadata": {},
   "outputs": [
    {
     "name": "stderr",
     "output_type": "stream",
     "text": [
      "/var/folders/pb/drvp7crx7qn3x5331z925m1c0000gt/T/ipykernel_27019/1222642071.py:2: FutureWarning: The frame.append method is deprecated and will be removed from pandas in a future version. Use pandas.concat instead.\n",
      "  df_raw = df_raw.append(pd.read_excel('Electric Taxis in South Africa(5001-5703).xlsx'))\n"
     ]
    }
   ],
   "source": [
    "df_raw = pd.read_excel(\"Electric Taxis in South Africa(1-5000).xlsx\")\n",
    "df_raw = df_raw.append(pd.read_excel('Electric Taxis in South Africa(5001-5703).xlsx'))\n",
    "df = df_raw.copy()\n",
    "df.drop(df.columns[0:7], axis = 1, inplace = True)\n",
    "df\n",
    "driver_owner_user = df['Please select the option that applies to you:']\n",
    "demographics = df.columns[0:6]\n",
    "education = df.columns[6:10]\n",
    "driver_owner_user = df['Please select the option that applies to you:'] # Question 10 \n",
    "driver_questions=  df.columns[11:22]\n",
    "owner_questions = df.columns[22:35]\n",
    "owner_driver_questions = df.columns[35:47]\n",
    "demographics = df.columns[0:6]\n",
    "province_or_country = df[demographics[0]]\n",
    "city_or_rural = df[demographics[1]]\n",
    "which_area_now = df[demographics[2]]\n",
    "language = df[demographics[3]]\n",
    "age = df[demographics[4]]\n",
    "gender = df[demographics[5]]\n",
    "education = df.columns[6:10]\n",
    "highest_lvl_schooling = df[education[0]]\n",
    "any_tertiary = df[education[1]]\n",
    "any_education_after_school = df[education[2]]\n",
    "highest_lvl_tertiary = df[education[3]]\n",
    "driver_questions=  df.columns[11:22]\n",
    "driver_how_long_driving = df[driver_questions[0]]\n",
    "driver_how_many_days_per_week_driving = df[driver_questions[1]]\n",
    "driver_what_days_drive = df[driver_questions[2]]\n",
    "driver_hours_drive_per_weekday = df[driver_questions[3]]\n",
    "driver_km_per_weekday = df[driver_questions[4]]\n",
    "driver_hours_drive_per_weekend = df[driver_questions[5]]\n",
    "driver_income_per_day = df[driver_questions[6]]\n",
    "driver_knows_what_e_taxi_is = df[driver_questions[7]]\n",
    "driver_e_taxi_benefit_vs_ICE = df[driver_questions[8]]\n",
    "driver_e_taxi_risks_vs_ICE = df[driver_questions[9]]\n",
    "driver_e_taxi_better_than_ICE = df[driver_questions[10]]\n",
    "owner_questions = df.columns[22:35]\n",
    "owner_num_taxis = df[owner_questions[0]]\n",
    "owner_how_long_owned_taxi = df[owner_questions[1]]\n",
    "owner_petrol_or_diesel = df[owner_questions[2]]\n",
    "owner_how_old_oldest_vehicle = df[owner_questions[3]]\n",
    "owner_how_old_average_vehicle = df[owner_questions[4]]\n",
    "owner_km_per_day = df[owner_questions[5]]\n",
    "owner_income_per_week = df[owner_questions[6]]\n",
    "owner_e_taxi_benefit_vs_ICE = df[owner_questions[7]]\n",
    "owner_e_taxi_risks_vs_ICE = df[owner_questions[8]]\n",
    "owner_e_taxi_better_than_ICE = df[owner_questions[9]]\n",
    "owner_which_costs_more_to_run_ICE_or_etaxi = df[owner_questions[10]]\n",
    "owner_which_costs_more_to_buy_ICE_or_etaxi = df[owner_questions[11]]\n",
    "owner_which_costs_more_to_service_ICE_or_etaxi = df[owner_questions[12]]\n",
    "owner_driver_questions = df.columns[35:55]\n",
    "owner_driver_num_taxis = df[owner_driver_questions[0]]\n",
    "owner_driver_how_long_owned_taxi = df[owner_driver_questions[1]]\n",
    "owner_driver_petrol_or_diesel = df[owner_driver_questions[2]]\n",
    "owner_driver_how_old_oldest_vehicle = df[owner_driver_questions[3]]\n",
    "owner_driver_how_old_average_vehicle = df[owner_driver_questions[4]]\n",
    "owner_driver_how_far_per_day = df[owner_driver_questions[5]]\n",
    "owner_driver_how_long_driven_taxi = df[owner_driver_questions[6]]\n",
    "owner_driver_number_days_per_week = df[owner_driver_questions[7]]\n",
    "owner_driver_what_days_drive = df[owner_driver_questions[8]]\n",
    "owner_driver_hours_drive_per_weekday = df[owner_driver_questions[9]]\n",
    "owner_driver_km_per_weekday_belief = df[owner_driver_questions[10]]\n",
    "owner_driver_hours_drive_per_weekend = df[owner_driver_questions[11]]\n",
    "owner_driver_income_per_week = df[owner_driver_questions[12]]\n",
    "owner_driver_e_taxi_benefit_vs_ICE = df[owner_driver_questions[13]]\n",
    "owner_driver_e_taxi_risks_vs_ICE = df[owner_driver_questions[14]]\n",
    "owner_driver_e_taxi_better_than_ICE = df[owner_driver_questions[15]]\n",
    "owner_driver_e_taxi_will_be_better_than_ICE = df[owner_driver_questions[16]]\n",
    "owner_driver_which_costs_more_to_run_ICE_or_etaxi = df[owner_driver_questions[17]]\n",
    "owner_driver_which_costs_more_to_buy_ICE_or_etaxi = df[owner_driver_questions[18]]\n",
    "owner_driver_which_costs_more_to_service_ICE_or_etaxi = df[owner_driver_questions[19]]\n",
    "user_questions = df.columns[70:81]\n",
    "user_how_long = user_questions[0]\n",
    "user_how_many_days_per_week = user_questions[1]\n",
    "user_what_days = user_questions[2]\n",
    "user_how_far_normal_trip = user_questions[3]\n",
    "user_avg_trip_cost = user_questions[4]\n",
    "user_ICE_taxis_too_expensive = user_questions[5]\n",
    "user_knows_what_e_taxi_is = user_questions[6]\n",
    "owner_driver_e_taxi_benefit = user_questions[7]\n",
    "owner_driver_e_taxi_risks = user_questions[8]\n",
    "owner_environmental_conscience = user_questions[9]\n",
    "user_price_vs_time_prefs = user_questions[10]\n",
    "perceptions_of_ICE_taxi = df.columns[55:60]\n",
    "ICE_taxi_safe = df[perceptions_of_ICE_taxi[0]]\n",
    "ICE_taxi_reliable = df[perceptions_of_ICE_taxi[1]]\n",
    "ICE_taxi_fuel_expensive = df[perceptions_of_ICE_taxi[2]]\n",
    "ICE_taxi_purchase_expensive = df[perceptions_of_ICE_taxi[3]]\n",
    "ICE_taxi_service_expensive = df[perceptions_of_ICE_taxi[4]]\n",
    "perceptions_of_EV_taxi = df.columns[60:70]\n",
    "EV_taxi_range = df[perceptions_of_EV_taxi[0]]\n",
    "EV_taxi_charge_time = df[perceptions_of_EV_taxi[1]]\n",
    "EV_taxi_purchase_decision = df[perceptions_of_EV_taxi[2]]\n",
    "EV_taxi_purchase_price_threshold = df[perceptions_of_EV_taxi[3]]\n",
    "EV_taxi_should_happen = df[perceptions_of_EV_taxi[4]]\n",
    "EV_taxi_worried_about_stations = df[perceptions_of_EV_taxi[5]]\n",
    "EV_taxi_affected_by_loadshedding = df[perceptions_of_EV_taxi[6]]\n",
    "EV_taxi_charging_expensive = df[perceptions_of_EV_taxi[7]]\n",
    "EV_taxi_purchase_expensive = df[perceptions_of_EV_taxi[8]]\n",
    "EV_taxi_service_expensive = df[perceptions_of_EV_taxi[9]]\n",
    "climate_change = df.columns[84:89]\n",
    "climate_concern = df[climate_change[0]]\n",
    "climate_taxis_should_reduce_env_impact = df[climate_change[1]]\n",
    "climate_ICE_taxis_harm_environment = df[climate_change[2]]\n",
    "climate_EV_taxis_help_environment = df[climate_change[3]]\n",
    "climate_govt_should_switch_to_ev = df[climate_change[4]]\n",
    "personal_characteristics = df.columns[89:92]\n",
    "personal_risk_taker = df[personal_characteristics[0]]\n",
    "peronsal_trust_people = df[personal_characteristics[1]]\n",
    "personal_trust_tech = df[personal_characteristics[2]]"
   ]
  },
  {
   "attachments": {},
   "cell_type": "markdown",
   "metadata": {},
   "source": [
    "# Exploring perceptions related to EVs\n",
    "Perception of benefits vs perception of risks <br>\n",
    "Perception of risks vs risk profile <br>\n",
    "Concern for climate change vs. perception of benefits <br>\n",
    "Effect of 'age','income', 'education' on 'having an electric taxi would benefit your business', 'which one would cost more to run', 'which one would cost more to buy', 'which one would have more service costs', and 'concern for climate change' <br>\n"
   ]
  },
  {
   "attachments": {},
   "cell_type": "markdown",
   "metadata": {},
   "source": [
    "Define 'perceptions' target variables "
   ]
  },
  {
   "cell_type": "code",
   "execution_count": 12,
   "metadata": {},
   "outputs": [
    {
     "ename": "NameError",
     "evalue": "name 'asdfasdf' is not defined",
     "output_type": "error",
     "traceback": [
      "\u001b[0;31m---------------------------------------------------------------------------\u001b[0m",
      "\u001b[0;31mNameError\u001b[0m                                 Traceback (most recent call last)",
      "\u001b[1;32m/Users/Orie4416/Desktop/taxi survey/taxi_explore_perceptions.ipynb Cell 5\u001b[0m in \u001b[0;36m3\n\u001b[1;32m      <a href='vscode-notebook-cell:/Users/Orie4416/Desktop/taxi%20survey/taxi_explore_perceptions.ipynb#X14sZmlsZQ%3D%3D?line=0'>1</a>\u001b[0m owner_questions\n\u001b[0;32m----> <a href='vscode-notebook-cell:/Users/Orie4416/Desktop/taxi%20survey/taxi_explore_perceptions.ipynb#X14sZmlsZQ%3D%3D?line=2'>3</a>\u001b[0m asdfasdf\n",
      "\u001b[0;31mNameError\u001b[0m: name 'asdfasdf' is not defined"
     ]
    }
   ],
   "source": [
    "owner_questions\n",
    "\n",
    "asdfasdf"
   ]
  },
  {
   "cell_type": "code",
   "execution_count": 11,
   "metadata": {},
   "outputs": [
    {
     "name": "stdout",
     "output_type": "stream",
     "text": [
      "Index(['How do you expect an electric taxi will benefit you compared to petrol/diesel taxis? (select all that apply)',\n",
      "       'What risks would an electric taxi inroduce to your operations compared to petrol/diesel taxis? (select all that apply)',\n",
      "       'Driving an electric taxi would be better for you than driving a petrol/diesel taxi'],\n",
      "      dtype='object')\n",
      "Index(['How do you expect an electric taxi will benefit you compared to petrol/diesel taxis? (select all that apply)2',\n",
      "       'What risks would an electric taxi inroduce to your operations compared to a petrol/diesel taxi? (select all that apply)',\n",
      "       'Having an electric taxi would benefit your business.',\n",
      "       'Which one would cost more to run the taxi per day?',\n",
      "       'Which one would cost more to buy?',\n",
      "       'Which one would have more service costs?'],\n",
      "      dtype='object')\n",
      "Index(['How do you expect an electric taxi will benefit you compared to petrol/diesel taxis? (select all that apply)3',\n",
      "       'What risks would an electric taxi inroduce to your operations compared to petrol/diesel taxis? (select all that apply)2',\n",
      "       'Driving an electric taxi would be better for you than driving a petrol/diesel taxi2',\n",
      "       'Having an electric taxi would benefit your business.2',\n",
      "       'Which one would cost more to run the taxi per day?2',\n",
      "       'Which one would cost more to buy?2',\n",
      "       'Which one would have more service costs?2'],\n",
      "      dtype='object')\n"
     ]
    }
   ],
   "source": [
    "driver_perceptions = driver_questions[8:11]\n",
    "print(driver_perceptions)\n",
    "owner_perceptions = owner_questions[-6:]\n",
    "print(owner_perceptions)\n",
    "owner_driver_perceptions = owner_driver_questions[-7:]\n",
    "print(owner_driver_perceptions)"
   ]
  },
  {
   "attachments": {},
   "cell_type": "markdown",
   "metadata": {},
   "source": [
    "Driver vs. Owner vs. User perceptions"
   ]
  },
  {
   "cell_type": "code",
   "execution_count": null,
   "metadata": {},
   "outputs": [],
   "source": []
  },
  {
   "attachments": {},
   "cell_type": "markdown",
   "metadata": {},
   "source": [
    "Poverty effect on perceptions of EV"
   ]
  },
  {
   "attachments": {},
   "cell_type": "markdown",
   "metadata": {},
   "source": [
    "# Explore taxi DOU perceptions"
   ]
  },
  {
   "cell_type": "code",
   "execution_count": null,
   "metadata": {},
   "outputs": [],
   "source": []
  }
 ],
 "metadata": {
  "kernelspec": {
   "display_name": "base",
   "language": "python",
   "name": "python3"
  },
  "language_info": {
   "codemirror_mode": {
    "name": "ipython",
    "version": 3
   },
   "file_extension": ".py",
   "mimetype": "text/x-python",
   "name": "python",
   "nbconvert_exporter": "python",
   "pygments_lexer": "ipython3",
   "version": "3.9.13"
  },
  "orig_nbformat": 4
 },
 "nbformat": 4,
 "nbformat_minor": 2
}
